{
 "cells": [
  {
   "cell_type": "markdown",
   "metadata": {},
   "source": [
    "# LendingClub Investment Default Risk Analysis"
   ]
  },
  {
   "cell_type": "markdown",
   "metadata": {},
   "source": [
    "This project uses historical LendingClub loan data to build a machine leaning model to identify the most important factors related to credit risk and to predict the default risk for each current loan. The moment new loans are added to the LendingClub platform, the algorithm analyzes the variables of these loans and recommends notes that are more likely to perform better than others."
   ]
  },
  {
   "cell_type": "markdown",
   "metadata": {},
   "source": [
    "**Table of Contents**\n",
    "\n",
    "* <a href='#1'>1. Loading Data</a>\n",
    "    * <a href='#1.1'>1.1 Import modulus</a>\n",
    "    * <a href='#1.2'>1.2 Get Current Loan Data from Lending Club API</a>\n",
    "    * <a href='#1.3'>1.3 Load Historical Data<a/>\n",
    "\n",
    "\n",
    "* <a href='#2'>2. Data Preparation</a>\n",
    "    * <a href='#2.1'>2.1 Find common and unique features<a/>\n",
    "    * <a href='#2.2'>2.2 Clean historical data features</a>\n",
    "    * <a href='#2.3'>2.3 Generate the target label </a>\n",
    "\n",
    "\n",
    "* <a href='#3'>3. EDA and Feature Engineering</a>\n",
    "    * <a href='#3.1'>3.1 Object features</a>\n",
    "    * <a href='#3.2'>3.2 Numeric features</a>\n",
    "    * <a href='#3.3'>3.3 Generate the cleaned dataset for modeling</a>\n",
    "\n",
    "\n",
    "* <a href='#4'>4. XGBoost Modeling</a>\n",
    "    * <a href='#4.1'>4.1 Generate training and testing sets</a>\n",
    "    * <a href='#4.2'>4.2 XGBoost parameter tuning</a>\n",
    "    * <a href='#4.3'>4.3 ROC curve</a>\n",
    "    * <a href='#4.4'>4.4 Model accuracy</a>\n",
    "    * <a href='#4.5'>4.5 Feature importance</a>\n",
    "    * <a href='#4.6'>4.6 Performance on test data\n",
    "    * <a href='#4.7'>4.7 Export trained model</a>\n",
    "\n",
    "\n",
    "* <a href='#5'>5. Prediction on Current Loans</a>\n",
    "    * <a href='#5.1'>5.1 Load the model</a>\n",
    "    * <a href='#5.2'>5.2 Load the current data</a>\n",
    "    * <a href='#5.3'>5.3 Data cleaning</a>\n",
    "    * <a href='#5.4'>5.4 Predict the default rate </a>\n",
    "    * <a href='#5.5'>5.5 Recommend loans based on investors' preference </a>"
   ]
  },
  {
   "cell_type": "markdown",
   "metadata": {},
   "source": [
    "<a id='1'></a>\n",
    "## 1. Loading Data"
   ]
  },
  {
   "cell_type": "markdown",
   "metadata": {},
   "source": [
    "<a id='1.1'></a>\n",
    "### 1.1 Import modulus"
   ]
  },
  {
   "cell_type": "code",
   "execution_count": 1,
   "metadata": {},
   "outputs": [],
   "source": [
    "# Ignore warnings\n",
    "import warnings\n",
    "warnings.filterwarnings('ignore')\n",
    "\n",
    "import json\n",
    "import requests\n",
    "import re\n",
    "from datetime import datetime\n",
    "import pandas as pd\n",
    "import numpy as np\n",
    "import pickle\n",
    "\n",
    "import seaborn as sns\n",
    "import matplotlib.pyplot as plt\n",
    "%matplotlib inline\n",
    "\n",
    "import xgboost as xgb\n",
    "from xgboost.sklearn import XGBClassifier\n",
    "from sklearn import metrics\n",
    "from sklearn.model_selection import train_test_split"
   ]
  },
  {
   "cell_type": "markdown",
   "metadata": {},
   "source": [
    "<a id='1.2'></a>\n",
    "### 1.2  Get Current Loan Data Through LendingClub API"
   ]
  },
  {
   "cell_type": "markdown",
   "metadata": {},
   "source": [
    "The following link provides instructions on LendingClub API:\n",
    "* https://www.lendingclub.com/developers/api-overview"
   ]
  },
  {
   "cell_type": "code",
   "execution_count": 2,
   "metadata": {},
   "outputs": [],
   "source": [
    "# API credential is stored in the file \"apikey.txt\"\n",
    "api_key =open('apikey.txt','r').read()\n",
    "\n",
    "headers = {'Authorization':api_key}\n",
    "url='https://api.lendingclub.com/api/investor/v1/loans/listing?showAll=true'\n",
    "\n",
    "r=requests.get(url, headers=headers)"
   ]
  },
  {
   "cell_type": "code",
   "execution_count": 3,
   "metadata": {},
   "outputs": [
    {
     "data": {
      "text/plain": [
       "dict_keys(['asOfDate', 'loans'])"
      ]
     },
     "execution_count": 3,
     "metadata": {},
     "output_type": "execute_result"
    }
   ],
   "source": [
    "data=r.json()\n",
    "data.keys()    # r.json() has two keys: 'asOfDate', and 'loans'"
   ]
  },
  {
   "cell_type": "code",
   "execution_count": 4,
   "metadata": {},
   "outputs": [
    {
     "data": {
      "text/plain": [
       "(list, dict)"
      ]
     },
     "execution_count": 4,
     "metadata": {},
     "output_type": "execute_result"
    }
   ],
   "source": [
    "# Under the key 'loans', the content is a list, and each element in the list is a dictionary\n",
    "type(data['loans']), type(data['loans'][0])  "
   ]
  },
  {
   "cell_type": "code",
   "execution_count": 5,
   "metadata": {},
   "outputs": [],
   "source": [
    "# Read JSON file to a data frame\n",
    "df_curr = pd.io.json.json_normalize(data['loans'])"
   ]
  },
  {
   "cell_type": "code",
   "execution_count": 6,
   "metadata": {},
   "outputs": [
    {
     "data": {
      "text/plain": [
       "(265, 119)"
      ]
     },
     "execution_count": 6,
     "metadata": {},
     "output_type": "execute_result"
    }
   ],
   "source": [
    "df_curr.shape"
   ]
  },
  {
   "cell_type": "markdown",
   "metadata": {},
   "source": [
    "<a id='1.3'></a>\n",
    "### 1.3 Load Historical Data"
   ]
  },
  {
   "cell_type": "markdown",
   "metadata": {},
   "source": [
    "* Data source:\n",
    "    * LendingClub Statistics (https://www.lendingclub.com/info/download-data.action)\n",
    "* Historical data used in this project:\n",
    "    * LendingClub 2014 investment data (The data file version is April 18, 2018) \n",
    "    * Note: LendingClub constantly updates old data files, so the currently downloaded dataset may be slightly different from the one used here \n",
    "* 2014 Dataset contains 235,629 loans with 151 features (before any data cleaning processes)"
   ]
  },
  {
   "cell_type": "code",
   "execution_count": 87,
   "metadata": {},
   "outputs": [],
   "source": [
    "df_hist = pd.read_csv('data/LoanStats3c_securev1.csv', skiprows=1)\n",
    "\n",
    "# remove the last two rows (which are not investment data but some summary information)\n",
    "df_hist = df_hist.iloc[:-2, :]"
   ]
  },
  {
   "cell_type": "code",
   "execution_count": 88,
   "metadata": {},
   "outputs": [
    {
     "data": {
      "text/plain": [
       "(235629, 151)"
      ]
     },
     "execution_count": 88,
     "metadata": {},
     "output_type": "execute_result"
    }
   ],
   "source": [
    "df_hist.shape"
   ]
  },
  {
   "cell_type": "markdown",
   "metadata": {},
   "source": [
    "<a id='2'></a>\n",
    "## 2. Data Preparation"
   ]
  },
  {
   "cell_type": "markdown",
   "metadata": {},
   "source": [
    "* Historical loan data and current loan data have many different features. Even for the same features they use different names. We first find the common features from these two datasets and change them to the same names.  "
   ]
  },
  {
   "cell_type": "markdown",
   "metadata": {},
   "source": [
    "<a id='2.1'></a>\n",
    "### 2.1 Find common and unique features"
   ]
  },
  {
   "cell_type": "code",
   "execution_count": 91,
   "metadata": {},
   "outputs": [],
   "source": [
    "historical_feature = list(df_hist.columns.values)\n",
    "current_feature = list(df_curr.columns.values)"
   ]
  },
  {
   "cell_type": "code",
   "execution_count": 92,
   "metadata": {},
   "outputs": [],
   "source": [
    "# historical feature names: delete underscore(_)\n",
    "for i in range(len(historical_feature)):\n",
    "    historical_feature[i] = str(historical_feature[i]).replace('_','')"
   ]
  },
  {
   "cell_type": "code",
   "execution_count": 93,
   "metadata": {},
   "outputs": [],
   "source": [
    "# current feature names: change uppercase to lowercase\n",
    "for i in range(len(current_feature)):\n",
    "    current_feature[i] = str.lower(current_feature[i])"
   ]
  },
  {
   "cell_type": "code",
   "execution_count": 94,
   "metadata": {},
   "outputs": [
    {
     "name": "stdout",
     "output_type": "stream",
     "text": [
      "101 common feature names\n"
     ]
    }
   ],
   "source": [
    "# Find the common feature names in both historical and current dataset\n",
    "common_feature = set(historical_feature)&(set(current_feature))\n",
    "print(\"%d common feature names\" %len(common_feature))"
   ]
  },
  {
   "cell_type": "code",
   "execution_count": 95,
   "metadata": {},
   "outputs": [
    {
     "name": "stdout",
     "output_type": "stream",
     "text": [
      "50 unique feature names in the historical dataset\n",
      "\n",
      "['collectionrecoveryfee', 'debtsettlementflag', 'debtsettlementflagdate', 'deferralterm', 'fundedamnt', 'fundedamntinv', 'hardshipamount', 'hardshipdpd', 'hardshipenddate', 'hardshipflag', 'hardshiplastpaymentamount', 'hardshiplength', 'hardshiploanstatus', 'hardshippayoffbalanceamount', 'hardshipreason', 'hardshipstartdate', 'hardshipstatus', 'hardshiptype', 'issued', 'lastcreditpulld', 'lastficorangehigh', 'lastficorangelow', 'lastpymntamnt', 'lastpymntd', 'loanamnt', 'loanstatus', 'nextpymntd', 'numacctsever120pd', 'origprojectedadditionalaccruedinterest', 'outprncp', 'outprncpinv', 'paymentplanstartdate', 'policycode', 'pymntplan', 'recoveries', 'settlementamount', 'settlementdate', 'settlementpercentage', 'settlementstatus', 'settlementterm', 'title', 'totalpymnt', 'totalpymntinv', 'totalrecint', 'totalreclatefee', 'totalrecprncp', 'url', 'verificationstatus', 'verificationstatusjoint', 'zipcode']\n"
     ]
    }
   ],
   "source": [
    "# Find the unique feature names only in historical dataset\n",
    "historical_unique = set(historical_feature)-set(current_feature)\n",
    "print(\"%d unique feature names in the historical dataset\\n\" %len(historical_unique))\n",
    "print(sorted(historical_unique))"
   ]
  },
  {
   "cell_type": "code",
   "execution_count": 96,
   "metadata": {},
   "outputs": [
    {
     "name": "stdout",
     "output_type": "stream",
     "text": [
      "18 unique feature names in the current dataset\n",
      "\n",
      "['acceptd', 'addrzip', 'creditpulld', 'expd', 'expdefaultrate', 'fundedamount', 'housingpayment', 'ilsexpd', 'investorcount', 'isincv', 'isincvjoint', 'listd', 'loanamount', 'mtgpayment', 'numacctsever120ppd', 'reviewstatus', 'reviewstatusd', 'servicefeerate']\n"
     ]
    }
   ],
   "source": [
    "# Find the unique feature names only in current dataset\n",
    "current_unique = set(current_feature)-set(historical_feature)\n",
    "print(\"%d unique feature names in the current dataset\\n\" %len(current_unique))\n",
    "print(sorted(current_unique))"
   ]
  },
  {
   "cell_type": "code",
   "execution_count": 97,
   "metadata": {},
   "outputs": [],
   "source": [
    "# The following features have different names but the same meanings\n",
    "# thus we change historical feature names to current feature names\n",
    "name_change = {\n",
    "     'fundedamnt': 'fundedamount',\n",
    "     'loanamnt': 'loanamount',\n",
    "     'numacctsever120pd':  'numacctsever120ppd',\n",
    "     'verificationstatus': 'isincv',\n",
    "     'verificationstatusjoint': 'isincvjoint',\n",
    "     'zipcode': 'addrzip'\n",
    "}"
   ]
  },
  {
   "cell_type": "code",
   "execution_count": 98,
   "metadata": {},
   "outputs": [
    {
     "name": "stdout",
     "output_type": "stream",
     "text": [
      "The number of total common features is 107\n"
     ]
    }
   ],
   "source": [
    "for key, value in name_change.items():\n",
    "    common_feature = common_feature.union({value})\n",
    "print(\"The number of total common features is %d\" %len(common_feature))"
   ]
  },
  {
   "cell_type": "markdown",
   "metadata": {},
   "source": [
    "<a id='2.2'></a>\n",
    "### 2.2 Clean historical data feature names"
   ]
  },
  {
   "cell_type": "markdown",
   "metadata": {},
   "source": [
    "* Remove underscores from feature names\n",
    "* Rename feature names from \"name_change\" dictionary\n",
    "* Remove feature names with empty data\n",
    "* Only choose loans with term=36 months\n",
    "* Seperate features to object features and numeric features"
   ]
  },
  {
   "cell_type": "code",
   "execution_count": 99,
   "metadata": {},
   "outputs": [],
   "source": [
    "# remove underscore from feature names\n",
    "for i in range(len(df_hist.columns.values)):\n",
    "    df_hist.columns.values[i] = str(df_hist.columns.values[i]).replace('_', '')"
   ]
  },
  {
   "cell_type": "code",
   "execution_count": 100,
   "metadata": {},
   "outputs": [],
   "source": [
    "# rename feature names from \"name_change\" dictionary\n",
    "df_hist.rename(columns=name_change, inplace=True)"
   ]
  },
  {
   "cell_type": "code",
   "execution_count": 102,
   "metadata": {},
   "outputs": [],
   "source": [
    "# only choose features from the \"common_feature\" list + target feature \"loanstatus\"\n",
    "df_hist = df_hist[list(common_feature) + ['issued'] + ['loanstatus']]"
   ]
  },
  {
   "cell_type": "code",
   "execution_count": 103,
   "metadata": {},
   "outputs": [
    {
     "name": "stdout",
     "output_type": "stream",
     "text": [
      "31 features without any data\n",
      "\n",
      "['allutil', 'annualincjoint', 'dtijoint', 'ilutil', 'inqfi', 'inqlast12m', 'isincvjoint', 'maxbalbc', 'memberid', 'mthssincercntil', 'openacc6m', 'openactil', 'openil12m', 'openil24m', 'openrv12m', 'openrv24m', 'revolbaljoint', 'secappchargeoffwithin12mths', 'secappcollections12mthsexmed', 'secappearliestcrline', 'secappficorangehigh', 'secappficorangelow', 'secappinqlast6mths', 'secappmortacc', 'secappmthssincelastmajorderog', 'secappnumrevaccts', 'secappopenacc', 'secappopenactil', 'secapprevolutil', 'totalbalil', 'totalcutl']\n"
     ]
    }
   ],
   "source": [
    "# find features without any data\n",
    "empty_features = list(df_hist.columns.values[df_hist.isnull().sum() == df_hist.shape[0]])\n",
    "print(\"%d features without any data\\n\" %len(empty_features))\n",
    "print(sorted(empty_features))"
   ]
  },
  {
   "cell_type": "code",
   "execution_count": 104,
   "metadata": {},
   "outputs": [],
   "source": [
    "# remove feature names with empty data from the list of \"common_feature\"\n",
    "common_feature = common_feature - set(empty_features)"
   ]
  },
  {
   "cell_type": "code",
   "execution_count": 105,
   "metadata": {},
   "outputs": [],
   "source": [
    "# remove features with empty data \n",
    "df_hist.drop(list(empty_features), axis=1, inplace=True)"
   ]
  },
  {
   "cell_type": "code",
   "execution_count": 106,
   "metadata": {},
   "outputs": [],
   "source": [
    "# only choose '36 months' loans\n",
    "df_hist = df_hist[df_hist['term']==' 36 months']"
   ]
  },
  {
   "cell_type": "code",
   "execution_count": 107,
   "metadata": {},
   "outputs": [],
   "source": [
    "# Seperate object features and numerical features to two sets\n",
    "fn_obj = []\n",
    "fn_num = []\n",
    "for col in df_hist.columns.values:\n",
    "    if df_hist[col].dtype == 'O':\n",
    "        fn_obj.append(col)\n",
    "    else:\n",
    "        fn_num.append(col)"
   ]
  },
  {
   "cell_type": "code",
   "execution_count": 108,
   "metadata": {},
   "outputs": [
    {
     "name": "stdout",
     "output_type": "stream",
     "text": [
      "20 object features\n",
      "\n",
      "['addrstate', 'addrzip', 'applicationtype', 'desc', 'disbursementmethod', 'earliestcrline', 'emplength', 'emptitle', 'grade', 'homeownership', 'id', 'initialliststatus', 'intrate', 'isincv', 'issued', 'loanstatus', 'purpose', 'revolutil', 'subgrade', 'term']\n"
     ]
    }
   ],
   "source": [
    "print(\"%d object features\\n\" %len(fn_obj))\n",
    "print(sorted(fn_obj))"
   ]
  },
  {
   "cell_type": "code",
   "execution_count": 109,
   "metadata": {},
   "outputs": [
    {
     "name": "stdout",
     "output_type": "stream",
     "text": [
      "14 object features\n",
      "\n",
      "['addrzip', 'purpose', 'subgrade', 'emptitle', 'grade', 'initialliststatus', 'homeownership', 'isincv', 'intrate', 'addrstate', 'earliestcrline', 'emplength', 'revolutil', 'issued']\n"
     ]
    }
   ],
   "source": [
    "# \"applicationtype\" only \"individual\"\n",
    "# \"desc\" majority missing, delete\n",
    "# \"disbursementmethod\" only \"cash\"\n",
    "# \"id\" is useless \n",
    "# \"loanstatus\" is the target feature\n",
    "# \"term\" only 36 months\n",
    "fn_obj_remove = ['applicationtype', 'desc', 'disbursementmethod', 'id', 'loanstatus', 'term']   \n",
    "\n",
    "fn_obj = [x for x in fn_obj if x not in fn_obj_remove]\n",
    "print(\"%d object features\\n\" %len(fn_obj))\n",
    "print(fn_obj)"
   ]
  },
  {
   "cell_type": "code",
   "execution_count": 110,
   "metadata": {},
   "outputs": [
    {
     "name": "stdout",
     "output_type": "stream",
     "text": [
      "58 numerical features\n",
      "\n",
      "['accnowdelinq', 'accopenpast24mths', 'annualinc', 'avgcurbal', 'bcopentobuy', 'bcutil', 'chargeoffwithin12mths', 'collections12mthsexmed', 'delinq2yrs', 'delinqamnt', 'dti', 'ficorangehigh', 'ficorangelow', 'fundedamount', 'inqlast6mths', 'installment', 'loanamount', 'mortacc', 'mosinoldilacct', 'mosinoldrevtlop', 'mosinrcntrevtlop', 'mosinrcnttl', 'mthssincelastdelinq', 'mthssincelastmajorderog', 'mthssincelastrecord', 'mthssincerecentbc', 'mthssincerecentbcdlq', 'mthssincerecentinq', 'mthssincerecentrevoldelinq', 'numacctsever120ppd', 'numactvbctl', 'numactvrevtl', 'numbcsats', 'numbctl', 'numiltl', 'numoprevtl', 'numrevaccts', 'numrevtlbalgt0', 'numsats', 'numtl120dpd2m', 'numtl30dpd', 'numtl90gdpd24m', 'numtloppast12m', 'openacc', 'pcttlnvrdlq', 'percentbcgt75', 'pubrec', 'pubrecbankruptcies', 'revolbal', 'taxliens', 'totalacc', 'totalbalexmort', 'totalbclimit', 'totalilhighcreditlimit', 'totalrevhilim', 'totcollamt', 'totcurbal', 'tothicredlim']\n"
     ]
    }
   ],
   "source": [
    "fn_num.sort()\n",
    "print(\"%d numerical features\\n\" %len(fn_num))\n",
    "print(fn_num)"
   ]
  },
  {
   "cell_type": "markdown",
   "metadata": {},
   "source": [
    "<a id='2.3'></a>\n",
    "### 2.3 Generate the target label "
   ]
  },
  {
   "cell_type": "markdown",
   "metadata": {},
   "source": [
    "* Only choose 'Fully Paid' and 'Charged Off' loans\n",
    "* Label the target variable: 'Fully Paid' = 0, 'Charged Off' = 1"
   ]
  },
  {
   "cell_type": "code",
   "execution_count": 111,
   "metadata": {},
   "outputs": [],
   "source": [
    "# only choose 'Fully Paid' and 'Charged Off' loans\n",
    "loan_status = ['Fully Paid', 'Charged Off']\n",
    "df_hist = df_hist[df_hist['loanstatus'].isin(loan_status)]"
   ]
  },
  {
   "cell_type": "code",
   "execution_count": 112,
   "metadata": {},
   "outputs": [],
   "source": [
    "df_hist['loanstatus'] = df_hist.loanstatus.map({\"Charged Off\": 1, \"Fully Paid\": 0})"
   ]
  },
  {
   "cell_type": "code",
   "execution_count": 113,
   "metadata": {
    "scrolled": true
   },
   "outputs": [
    {
     "data": {
      "text/plain": [
       "0    0.862765\n",
       "1    0.137235\n",
       "Name: loanstatus, dtype: float64"
      ]
     },
     "execution_count": 113,
     "metadata": {},
     "output_type": "execute_result"
    }
   ],
   "source": [
    "# Distribution of the binary label\n",
    "df_hist['loanstatus'].value_counts(normalize=True)"
   ]
  },
  {
   "cell_type": "markdown",
   "metadata": {},
   "source": [
    "<a id='3'></a>\n",
    "## 3. EDA and Feature Engineering"
   ]
  },
  {
   "cell_type": "markdown",
   "metadata": {},
   "source": [
    "<a id='3.1'></a>\n",
    "### 3.1 Object features"
   ]
  },
  {
   "cell_type": "code",
   "execution_count": 114,
   "metadata": {},
   "outputs": [],
   "source": [
    "def fn_obj_eda(featue_name, normalize=True):\n",
    "    \"\"\"\n",
    "    Return number of missing values, and compute a histogram of the counts of non-null values.\n",
    "    @params:\n",
    "        feature_name      - Required: the feature's name (Str)\n",
    "        norm                   - Optional:  If True then compute a relative histogram (Boolean)\n",
    "    \"\"\"\n",
    "    print(\"Feature Name: \", featue_name)\n",
    "    print(\"Null Values:\", df_hist[featue_name].isnull().sum())\n",
    "    print(df_hist[featue_name].value_counts(normalize=normalize))"
   ]
  },
  {
   "cell_type": "code",
   "execution_count": 115,
   "metadata": {},
   "outputs": [],
   "source": [
    "def plot_cat(cat, figw=5, figh=3, rot=0):\n",
    "    \"\"\"\n",
    "    Plot a barplot for categorical feature.\n",
    "    @params:\n",
    "        cat                       - Required: the categorical feature's name (Str)\n",
    "        figw                     - Optional:  figure's width (int)\n",
    "        figh                      - Optional: figure's height (int)\n",
    "        rot                        - Optional: the rotation angle of the x tick lables\n",
    "    \"\"\"\n",
    "    fig, ax = plt.subplots(figsize=(figw, figh))\n",
    "    g = sns.barplot(df_hist[cat], df_hist.loanstatus, ax=ax)\n",
    "    g.set_xticklabels(g.get_xticklabels(), rotation=rot)"
   ]
  },
  {
   "cell_type": "markdown",
   "metadata": {},
   "source": [
    "<a id='3.1.1'></a>\n",
    "#### 3.1.1  \"addrstate\": frequency encoding"
   ]
  },
  {
   "cell_type": "markdown",
   "metadata": {},
   "source": [
    "* Use the relative frequency to transform \"addrstate\" feature to a numeric feature"
   ]
  },
  {
   "cell_type": "code",
   "execution_count": 116,
   "metadata": {},
   "outputs": [
    {
     "data": {
      "image/png": "[encoded data removed]",
      "text/plain": [
       "<Figure size 1080x216 with 1 Axes>"
      ]
     },
     "metadata": {},
     "output_type": "display_data"
    }
   ],
   "source": [
    "plot_cat('addrstate', figw=15)"
   ]
  },
  {
   "cell_type": "code",
   "execution_count": 117,
   "metadata": {},
   "outputs": [
    {
     "data": {
      "text/html": [
       "<div>\n",
       "<style scoped>\n",
       "    .dataframe tbody tr th:only-of-type {\n",
       "        vertical-align: middle;\n",
       "    }\n",
       "\n",
       "    .dataframe tbody tr th {\n",
       "        vertical-align: top;\n",
       "    }\n",
       "\n",
       "    .dataframe thead th {\n",
       "        text-align: right;\n",
       "    }\n",
       "</style>\n",
       "<table border=\"1\" class=\"dataframe\">\n",
       "  <thead>\n",
       "    <tr style=\"text-align: right;\">\n",
       "      <th></th>\n",
       "      <th>addrstate</th>\n",
       "      <th>addrstate_freq</th>\n",
       "    </tr>\n",
       "  </thead>\n",
       "  <tbody>\n",
       "    <tr>\n",
       "      <th>0</th>\n",
       "      <td>AK</td>\n",
       "      <td>0.002559</td>\n",
       "    </tr>\n",
       "    <tr>\n",
       "      <th>1</th>\n",
       "      <td>AL</td>\n",
       "      <td>0.011898</td>\n",
       "    </tr>\n",
       "    <tr>\n",
       "      <th>2</th>\n",
       "      <td>AR</td>\n",
       "      <td>0.007641</td>\n",
       "    </tr>\n",
       "    <tr>\n",
       "      <th>3</th>\n",
       "      <td>AZ</td>\n",
       "      <td>0.023926</td>\n",
       "    </tr>\n",
       "    <tr>\n",
       "      <th>4</th>\n",
       "      <td>CA</td>\n",
       "      <td>0.149711</td>\n",
       "    </tr>\n",
       "  </tbody>\n",
       "</table>\n",
       "</div>"
      ],
      "text/plain": [
       "  addrstate  addrstate_freq\n",
       "0        AK        0.002559\n",
       "1        AL        0.011898\n",
       "2        AR        0.007641\n",
       "3        AZ        0.023926\n",
       "4        CA        0.149711"
      ]
     },
     "execution_count": 117,
     "metadata": {},
     "output_type": "execute_result"
    }
   ],
   "source": [
    "# get frequency for each state\n",
    "addrstate_freq = df_hist.groupby(\"addrstate\").size().reset_index()\n",
    "addrstate_freq.columns = [\"addrstate\", \"addrstate_freq\"]\n",
    "addrstate_freq['addrstate_freq'] = addrstate_freq['addrstate_freq']/df_hist.shape[0]\n",
    "addrstate_freq.head()"
   ]
  },
  {
   "cell_type": "code",
   "execution_count": 118,
   "metadata": {},
   "outputs": [],
   "source": [
    "addrstate_freq.to_csv('data/model_addrstate_freq.csv', index=False)"
   ]
  },
  {
   "cell_type": "code",
   "execution_count": 119,
   "metadata": {},
   "outputs": [],
   "source": [
    "df_hist = pd.merge(df_hist, addrstate_freq, how = \"left\", on = \"addrstate\")"
   ]
  },
  {
   "cell_type": "code",
   "execution_count": 120,
   "metadata": {},
   "outputs": [],
   "source": [
    "fn_obj.remove('addrstate')\n",
    "fn_num.append('addrstate_freq')"
   ]
  },
  {
   "cell_type": "markdown",
   "metadata": {},
   "source": [
    "<a id='3.1.2'></a>\n",
    "#### 3.1.2  Features to remove: 'addrzip', 'emptitle', 'grade', 'subgrade', 'earliestcrline', 'initialliststatus'"
   ]
  },
  {
   "cell_type": "markdown",
   "metadata": {},
   "source": [
    "The reasons to remove following object features:\n",
    "* \"addrzip\": too many levels\n",
    "* \"emptitle\": too many levels with many missing values\n",
    "* \"grade\" and \"subgrade\": highly related with the numeric feature \"intrate\"\n",
    "* \"earliestcrline\": highly related with \"mosinoldrevtlop\" (Months since oldest revolving account opened)\n",
    "* \"initialliststatus\": there are only two levels \"w\" and \"f\" in the historical dataset, but only one level \"f\" in the current dataset "
   ]
  },
  {
   "cell_type": "code",
   "execution_count": 121,
   "metadata": {},
   "outputs": [],
   "source": [
    "fn_obj_remove = ['addrzip', 'emptitle', 'grade', 'subgrade', 'earliestcrline', 'initialliststatus']\n",
    "fn_obj = list(set(fn_obj)-set(fn_obj_remove))"
   ]
  },
  {
   "cell_type": "code",
   "execution_count": 123,
   "metadata": {},
   "outputs": [
    {
     "name": "stdout",
     "output_type": "stream",
     "text": [
      "['issued', 'intrate', 'homeownership', 'isincv', 'emplength', 'revolutil', 'purpose']\n"
     ]
    }
   ],
   "source": [
    "print(fn_obj)"
   ]
  },
  {
   "cell_type": "markdown",
   "metadata": {},
   "source": [
    "<a id='3.1.3'></a>\n",
    "#### 3.1.3 \"intrate\": transform to numeric feature"
   ]
  },
  {
   "cell_type": "code",
   "execution_count": 124,
   "metadata": {},
   "outputs": [
    {
     "data": {
      "text/plain": [
       " 12.99%    9836\n",
       " 10.99%    9538\n",
       " 12.49%    8306\n",
       " 13.98%    6085\n",
       " 11.67%    6026\n",
       "Name: intrate, dtype: int64"
      ]
     },
     "execution_count": 124,
     "metadata": {},
     "output_type": "execute_result"
    }
   ],
   "source": [
    "df_hist['intrate'].value_counts().head()"
   ]
  },
  {
   "cell_type": "code",
   "execution_count": 125,
   "metadata": {},
   "outputs": [],
   "source": [
    "df_hist['intrate'] = df_hist['intrate'].apply(lambda x: x.replace('%', '')).astype(float)"
   ]
  },
  {
   "cell_type": "code",
   "execution_count": 126,
   "metadata": {},
   "outputs": [],
   "source": [
    "fn_obj.remove('intrate')\n",
    "fn_num.append('intrate')"
   ]
  },
  {
   "cell_type": "markdown",
   "metadata": {},
   "source": [
    "<a id='3.1.4'></a>\n",
    "#### 3.1.4 \"revolutil\": transform to numeric feature"
   ]
  },
  {
   "cell_type": "code",
   "execution_count": 127,
   "metadata": {},
   "outputs": [
    {
     "data": {
      "text/plain": [
       "0%     431\n",
       "59%    385\n",
       "48%    375\n",
       "58%    374\n",
       "53%    373\n",
       "Name: revolutil, dtype: int64"
      ]
     },
     "execution_count": 127,
     "metadata": {},
     "output_type": "execute_result"
    }
   ],
   "source": [
    "df_hist['revolutil'].value_counts().head()"
   ]
  },
  {
   "cell_type": "code",
   "execution_count": 128,
   "metadata": {},
   "outputs": [],
   "source": [
    "df_hist['revolutil'] = df_hist['revolutil'].apply(lambda x: str(x).replace('%', '')).astype(float)"
   ]
  },
  {
   "cell_type": "code",
   "execution_count": 129,
   "metadata": {},
   "outputs": [],
   "source": [
    "# Filling missing values with the median value\n",
    "df_hist.revolutil.fillna(df_hist.revolutil.median(), inplace=True)"
   ]
  },
  {
   "cell_type": "code",
   "execution_count": 130,
   "metadata": {},
   "outputs": [],
   "source": [
    "fn_obj.remove('revolutil')\n",
    "fn_num.append('revolutil')"
   ]
  },
  {
   "cell_type": "markdown",
   "metadata": {},
   "source": [
    "<a id='3.1.5'></a>\n",
    "#### 3.1.5 \"emplength\": transform to numeric features"
   ]
  },
  {
   "cell_type": "markdown",
   "metadata": {},
   "source": [
    "* In the current loan data, \"emplength\" uses numeric months instead of strings as in the historical data. Thus, transform historical data to follow the current data."
   ]
  },
  {
   "cell_type": "code",
   "execution_count": 131,
   "metadata": {},
   "outputs": [
    {
     "data": {
      "text/plain": [
       "array([120.,  48.,  nan,  72.,  84.,  36.,  60.,   0.,  96.,  24.,  12.,\n",
       "       108., 240., 144., 216., 156., 228., 252., 180.])"
      ]
     },
     "execution_count": 131,
     "metadata": {},
     "output_type": "execute_result"
    }
   ],
   "source": [
    "df_curr['empLength'].unique()"
   ]
  },
  {
   "cell_type": "code",
   "execution_count": 132,
   "metadata": {},
   "outputs": [
    {
     "data": {
      "text/plain": [
       "array(['8 years', '< 1 year', '10+ years', '2 years', '9 years',\n",
       "       '7 years', '1 year', '5 years', '3 years', '4 years', nan,\n",
       "       '6 years'], dtype=object)"
      ]
     },
     "execution_count": 132,
     "metadata": {},
     "output_type": "execute_result"
    }
   ],
   "source": [
    "df_hist['emplength'].unique()"
   ]
  },
  {
   "cell_type": "code",
   "execution_count": 133,
   "metadata": {},
   "outputs": [
    {
     "data": {
      "text/html": [
       "<div>\n",
       "<style scoped>\n",
       "    .dataframe tbody tr th:only-of-type {\n",
       "        vertical-align: middle;\n",
       "    }\n",
       "\n",
       "    .dataframe tbody tr th {\n",
       "        vertical-align: top;\n",
       "    }\n",
       "\n",
       "    .dataframe thead th {\n",
       "        text-align: right;\n",
       "    }\n",
       "</style>\n",
       "<table border=\"1\" class=\"dataframe\">\n",
       "  <thead>\n",
       "    <tr style=\"text-align: right;\">\n",
       "      <th></th>\n",
       "      <th>emplength</th>\n",
       "      <th>emplength_num</th>\n",
       "    </tr>\n",
       "  </thead>\n",
       "  <tbody>\n",
       "    <tr>\n",
       "      <th>0</th>\n",
       "      <td>&lt; 1 year</td>\n",
       "      <td>0</td>\n",
       "    </tr>\n",
       "    <tr>\n",
       "      <th>1</th>\n",
       "      <td>1 year</td>\n",
       "      <td>12</td>\n",
       "    </tr>\n",
       "    <tr>\n",
       "      <th>2</th>\n",
       "      <td>2 years</td>\n",
       "      <td>24</td>\n",
       "    </tr>\n",
       "    <tr>\n",
       "      <th>3</th>\n",
       "      <td>3 years</td>\n",
       "      <td>36</td>\n",
       "    </tr>\n",
       "    <tr>\n",
       "      <th>4</th>\n",
       "      <td>4 years</td>\n",
       "      <td>48</td>\n",
       "    </tr>\n",
       "  </tbody>\n",
       "</table>\n",
       "</div>"
      ],
      "text/plain": [
       "  emplength  emplength_num\n",
       "0  < 1 year              0\n",
       "1    1 year             12\n",
       "2   2 years             24\n",
       "3   3 years             36\n",
       "4   4 years             48"
      ]
     },
     "execution_count": 133,
     "metadata": {},
     "output_type": "execute_result"
    }
   ],
   "source": [
    "emplength_text = ['< 1 year', '1 year', '2 years', '3 years', '4 years', '5 years', '6 years', '7 years', '8 years', '9 years', '10+ years']\n",
    "emplength_num = [0, 12, 24, 36, 48, 60, 72, 84, 96, 108, 120]\n",
    "emplength_tbl = pd.DataFrame({'emplength': emplength_text, 'emplength_num': emplength_num})\n",
    "emplength_tbl.head()"
   ]
  },
  {
   "cell_type": "code",
   "execution_count": 134,
   "metadata": {},
   "outputs": [],
   "source": [
    "df_hist = pd.merge(df_hist, emplength_tbl, how = \"left\", on = \"emplength\")"
   ]
  },
  {
   "cell_type": "code",
   "execution_count": 135,
   "metadata": {},
   "outputs": [
    {
     "data": {
      "image/png": "[encoded data removed]",
      "text/plain": [
       "<Figure size 360x216 with 1 Axes>"
      ]
     },
     "metadata": {},
     "output_type": "display_data"
    }
   ],
   "source": [
    "plot_cat('emplength_num')"
   ]
  },
  {
   "cell_type": "code",
   "execution_count": 136,
   "metadata": {},
   "outputs": [],
   "source": [
    "df_hist.drop('emplength', axis=1, inplace=True)"
   ]
  },
  {
   "cell_type": "code",
   "execution_count": 137,
   "metadata": {},
   "outputs": [],
   "source": [
    "df_hist.rename(columns={'emplength_num': 'emplength'}, inplace=True)"
   ]
  },
  {
   "cell_type": "code",
   "execution_count": 138,
   "metadata": {},
   "outputs": [],
   "source": [
    "fn_obj.remove('emplength')\n",
    "fn_num.append('emplength')"
   ]
  },
  {
   "cell_type": "markdown",
   "metadata": {},
   "source": [
    "<a id='3.1.6'></a>\n",
    "#### 3.1.6 \"issued\""
   ]
  },
  {
   "cell_type": "markdown",
   "metadata": {},
   "source": [
    "* There are no significant differences in charge-off rate on issue month.\n",
    "* We will use loans issued in Jan to Oct to be the training data, and loans issued in Nov and Dec to be the test data."
   ]
  },
  {
   "cell_type": "code",
   "execution_count": 171,
   "metadata": {},
   "outputs": [
    {
     "name": "stdout",
     "output_type": "stream",
     "text": [
      "Feature Name:  issued\n",
      "Null Values: 0\n",
      "Oct-2014    0.163469\n",
      "Jul-2014    0.122680\n",
      "Nov-2014    0.101886\n",
      "Aug-2014    0.081719\n",
      "Apr-2014    0.081608\n",
      "May-2014    0.080642\n",
      "Mar-2014    0.071586\n",
      "Jun-2014    0.070799\n",
      "Jan-2014    0.070719\n",
      "Feb-2014    0.067323\n",
      "Sep-2014    0.045341\n",
      "Dec-2014    0.042228\n",
      "Name: issued, dtype: float64\n"
     ]
    }
   ],
   "source": [
    "fn_obj_eda('issued')"
   ]
  },
  {
   "cell_type": "code",
   "execution_count": 151,
   "metadata": {},
   "outputs": [
    {
     "data": {
      "image/png": "[encoded data removed]",
      "text/plain": [
       "<Figure size 576x216 with 1 Axes>"
      ]
     },
     "metadata": {},
     "output_type": "display_data"
    }
   ],
   "source": [
    "plot_cat('issued', figw=8, rot=30)"
   ]
  },
  {
   "cell_type": "code",
   "execution_count": 172,
   "metadata": {
    "scrolled": false
   },
   "outputs": [
    {
     "data": {
      "text/plain": [
       "0    0.854808\n",
       "1    0.145192\n",
       "Name: loanstatus, dtype: float64"
      ]
     },
     "execution_count": 172,
     "metadata": {},
     "output_type": "execute_result"
    }
   ],
   "source": [
    "df_hist.loc[df_hist.issued.isin(['Dec-2014', 'Nov-2014', 'Oct-2014']), 'loanstatus'].value_counts(normalize=True)"
   ]
  },
  {
   "cell_type": "code",
   "execution_count": 164,
   "metadata": {},
   "outputs": [],
   "source": [
    "fn_obj.remove('issued')"
   ]
  },
  {
   "cell_type": "markdown",
   "metadata": {},
   "source": [
    "<a id='3.1.7'></a>\n",
    "#### 3.1.7 One Hot Encoding: \"homeownership\", \"isincv\", \"purpose\""
   ]
  },
  {
   "cell_type": "code",
   "execution_count": 165,
   "metadata": {},
   "outputs": [
    {
     "name": "stdout",
     "output_type": "stream",
     "text": [
      "Feature Name:  homeownership\n",
      "Null Values: 0\n",
      "MORTGAGE    76316\n",
      "RENT        69738\n",
      "OWN         16491\n",
      "Name: homeownership, dtype: int64\n"
     ]
    }
   ],
   "source": [
    "# Histogram for \"homeownership\"\n",
    "fn_obj_eda('homeownership', normalize=False)"
   ]
  },
  {
   "cell_type": "code",
   "execution_count": 166,
   "metadata": {},
   "outputs": [],
   "source": [
    "# \"homeownership\": remove ANY\n",
    "df_hist = df_hist[df_hist.homeownership.isin(['MORTGAGE', 'RENT', 'OWN'])]"
   ]
  },
  {
   "cell_type": "code",
   "execution_count": 167,
   "metadata": {},
   "outputs": [
    {
     "data": {
      "image/png": "[encoded data removed]",
      "text/plain": [
       "<Figure size 360x216 with 1 Axes>"
      ]
     },
     "metadata": {},
     "output_type": "display_data"
    }
   ],
   "source": [
    "plot_cat('homeownership')"
   ]
  },
  {
   "cell_type": "code",
   "execution_count": 168,
   "metadata": {},
   "outputs": [
    {
     "name": "stdout",
     "output_type": "stream",
     "text": [
      "Feature Name:  isincv\n",
      "Null Values: 0\n",
      "NOT_VERIFIED       0.374149\n",
      "SOURCE_VERIFIED    0.364225\n",
      "VERIFIED           0.261626\n",
      "Name: isincv, dtype: float64\n"
     ]
    }
   ],
   "source": [
    "# Histogram for \"isincv\"\n",
    "fn_obj_eda('isincv')"
   ]
  },
  {
   "cell_type": "code",
   "execution_count": 169,
   "metadata": {},
   "outputs": [],
   "source": [
    "# Change the value to follow current data's manner\n",
    "df_hist.loc[df_hist.isincv=='Not Verified', 'isincv'] = 'NOT_VERIFIED'\n",
    "df_hist.loc[df_hist.isincv=='Source Verified', 'isincv'] = 'SOURCE_VERIFIED'\n",
    "df_hist.loc[df_hist.isincv=='Verified', 'isincv'] = 'VERIFIED'"
   ]
  },
  {
   "cell_type": "code",
   "execution_count": 170,
   "metadata": {},
   "outputs": [
    {
     "data": {
      "image/png": "[encoded data removed]",
      "text/plain": [
       "<Figure size 360x216 with 1 Axes>"
      ]
     },
     "metadata": {},
     "output_type": "display_data"
    }
   ],
   "source": [
    "plot_cat('isincv')"
   ]
  },
  {
   "cell_type": "code",
   "execution_count": 173,
   "metadata": {},
   "outputs": [
    {
     "name": "stdout",
     "output_type": "stream",
     "text": [
      "Feature Name:  purpose\n",
      "Null Values: 0\n",
      "debt_consolidation    0.583266\n",
      "credit_card           0.246664\n",
      "rest                  0.066068\n",
      "home_improvement      0.053234\n",
      "other                 0.050767\n",
      "Name: purpose, dtype: float64\n"
     ]
    }
   ],
   "source": [
    "# Histogram for \"purpose\"\n",
    "fn_obj_eda('purpose', normalize=True)"
   ]
  },
  {
   "cell_type": "code",
   "execution_count": 174,
   "metadata": {},
   "outputs": [],
   "source": [
    "# Keep categories with more than 5% of the data, and generate a new category named \"rest\" for the rest of the data\n",
    "purpose_cat = ['credit_card', 'debt_consolidation', 'home_improvement', 'other']\n",
    "df_hist.loc[~df_hist.purpose.isin(purpose_cat), 'purpose'] = 'rest'"
   ]
  },
  {
   "cell_type": "code",
   "execution_count": 175,
   "metadata": {},
   "outputs": [
    {
     "data": {
      "image/png": "[encoded data removed]",
      "text/plain": [
       "<Figure size 504x216 with 1 Axes>"
      ]
     },
     "metadata": {},
     "output_type": "display_data"
    }
   ],
   "source": [
    "plot_cat('purpose', figw=7, rot=25)"
   ]
  },
  {
   "cell_type": "code",
   "execution_count": 176,
   "metadata": {},
   "outputs": [
    {
     "data": {
      "text/plain": [
       "['homeownership_MORTGAGE',\n",
       " 'homeownership_OWN',\n",
       " 'homeownership_RENT',\n",
       " 'isincv_NOT_VERIFIED',\n",
       " 'isincv_SOURCE_VERIFIED',\n",
       " 'isincv_VERIFIED',\n",
       " 'purpose_credit_card',\n",
       " 'purpose_debt_consolidation',\n",
       " 'purpose_home_improvement',\n",
       " 'purpose_other',\n",
       " 'purpose_rest']"
      ]
     },
     "execution_count": 176,
     "metadata": {},
     "output_type": "execute_result"
    }
   ],
   "source": [
    "# One hot encoding\n",
    "df_dummy = pd.get_dummies(df_hist[fn_obj])\n",
    "fn_OHE = list(df_dummy.columns.values)\n",
    "fn_OHE"
   ]
  },
  {
   "cell_type": "code",
   "execution_count": 177,
   "metadata": {},
   "outputs": [],
   "source": [
    "df_hist = pd.concat([df_hist, df_dummy], axis=1 )"
   ]
  },
  {
   "cell_type": "markdown",
   "metadata": {},
   "source": [
    "<a id='3.2'></a>\n",
    "### 3.2 Numeric features"
   ]
  },
  {
   "cell_type": "code",
   "execution_count": 180,
   "metadata": {},
   "outputs": [
    {
     "data": {
      "image/png": "[encoded data removed]",
      "text/plain": [
       "<Figure size 1440x1440 with 2 Axes>"
      ]
     },
     "metadata": {},
     "output_type": "display_data"
    }
   ],
   "source": [
    "# Correlation matrix and heatmap\n",
    "corrmat = df_hist[fn_num].dropna().corr().abs()\n",
    "f, ax = plt.subplots(figsize=(20, 20))\n",
    "sns.heatmap(corrmat, vmax=.8, square=True, cmap=\"Blues\");"
   ]
  },
  {
   "cell_type": "code",
   "execution_count": 181,
   "metadata": {},
   "outputs": [],
   "source": [
    "def get_top_abs_correlations(df, threshold=0.9):\n",
    "    \"\"\"\n",
    "    Return the absolute correlations along with two feature names above the given threshold.\n",
    "    @params:\n",
    "        df                        - Required: the data frame\n",
    "        threshold            - Optional:  only return correlations high than or equal to the threshold (float)\n",
    "    \"\"\"\n",
    "    au_corr = df.dropna().corr().abs().unstack()\n",
    "    labels_to_drop = set()\n",
    "    cols = df.columns\n",
    "    for i in range(0, df.shape[1]):\n",
    "        for j in range(0, i+1):\n",
    "            labels_to_drop.add((cols[i], cols[j]))    \n",
    "    au_corr = au_corr.drop(labels=labels_to_drop).sort_values(ascending=False)\n",
    "    top_corr = pd.DataFrame(au_corr[au_corr>=threshold], columns={'correlation'}).reset_index()\n",
    "    return top_corr"
   ]
  },
  {
   "cell_type": "code",
   "execution_count": 182,
   "metadata": {},
   "outputs": [
    {
     "data": {
      "text/html": [
       "<div>\n",
       "<style scoped>\n",
       "    .dataframe tbody tr th:only-of-type {\n",
       "        vertical-align: middle;\n",
       "    }\n",
       "\n",
       "    .dataframe tbody tr th {\n",
       "        vertical-align: top;\n",
       "    }\n",
       "\n",
       "    .dataframe thead th {\n",
       "        text-align: right;\n",
       "    }\n",
       "</style>\n",
       "<table border=\"1\" class=\"dataframe\">\n",
       "  <thead>\n",
       "    <tr style=\"text-align: right;\">\n",
       "      <th></th>\n",
       "      <th>level_0</th>\n",
       "      <th>level_1</th>\n",
       "      <th>correlation</th>\n",
       "    </tr>\n",
       "  </thead>\n",
       "  <tbody>\n",
       "    <tr>\n",
       "      <th>0</th>\n",
       "      <td>fundedamount</td>\n",
       "      <td>loanamount</td>\n",
       "      <td>1.000000</td>\n",
       "    </tr>\n",
       "    <tr>\n",
       "      <th>1</th>\n",
       "      <td>ficorangehigh</td>\n",
       "      <td>ficorangelow</td>\n",
       "      <td>1.000000</td>\n",
       "    </tr>\n",
       "    <tr>\n",
       "      <th>2</th>\n",
       "      <td>numactvrevtl</td>\n",
       "      <td>numrevtlbalgt0</td>\n",
       "      <td>0.999037</td>\n",
       "    </tr>\n",
       "    <tr>\n",
       "      <th>3</th>\n",
       "      <td>numsats</td>\n",
       "      <td>openacc</td>\n",
       "      <td>0.996749</td>\n",
       "    </tr>\n",
       "    <tr>\n",
       "      <th>4</th>\n",
       "      <td>fundedamount</td>\n",
       "      <td>installment</td>\n",
       "      <td>0.995891</td>\n",
       "    </tr>\n",
       "    <tr>\n",
       "      <th>5</th>\n",
       "      <td>installment</td>\n",
       "      <td>loanamount</td>\n",
       "      <td>0.995891</td>\n",
       "    </tr>\n",
       "    <tr>\n",
       "      <th>6</th>\n",
       "      <td>totcurbal</td>\n",
       "      <td>tothicredlim</td>\n",
       "      <td>0.985590</td>\n",
       "    </tr>\n",
       "    <tr>\n",
       "      <th>7</th>\n",
       "      <td>totalbalexmort</td>\n",
       "      <td>totalilhighcreditlimit</td>\n",
       "      <td>0.911599</td>\n",
       "    </tr>\n",
       "    <tr>\n",
       "      <th>8</th>\n",
       "      <td>avgcurbal</td>\n",
       "      <td>totcurbal</td>\n",
       "      <td>0.885170</td>\n",
       "    </tr>\n",
       "    <tr>\n",
       "      <th>9</th>\n",
       "      <td>mthssincerecentbcdlq</td>\n",
       "      <td>mthssincerecentrevoldelinq</td>\n",
       "      <td>0.884292</td>\n",
       "    </tr>\n",
       "  </tbody>\n",
       "</table>\n",
       "</div>"
      ],
      "text/plain": [
       "                level_0                     level_1  correlation\n",
       "0          fundedamount                  loanamount     1.000000\n",
       "1         ficorangehigh                ficorangelow     1.000000\n",
       "2          numactvrevtl              numrevtlbalgt0     0.999037\n",
       "3               numsats                     openacc     0.996749\n",
       "4          fundedamount                 installment     0.995891\n",
       "5           installment                  loanamount     0.995891\n",
       "6             totcurbal                tothicredlim     0.985590\n",
       "7        totalbalexmort      totalilhighcreditlimit     0.911599\n",
       "8             avgcurbal                   totcurbal     0.885170\n",
       "9  mthssincerecentbcdlq  mthssincerecentrevoldelinq     0.884292"
      ]
     },
     "execution_count": 182,
     "metadata": {},
     "output_type": "execute_result"
    }
   ],
   "source": [
    "top_corr = get_top_abs_correlations(df_hist[fn_num], threshold=0.88)\n",
    "top_corr"
   ]
  },
  {
   "cell_type": "code",
   "execution_count": 183,
   "metadata": {},
   "outputs": [],
   "source": [
    "# For the highly correlated features, only keep the features with higher correlation with the target variable \"loanstatus\"\n",
    "# and remove the featurs with lower correlation with \"loanstatus\"\n",
    "fn_nu_remove = []\n",
    "for row_idx in range(len(top_corr)):\n",
    "    level0 = np.abs(df_hist['loanstatus'].corr(df_hist[top_corr.iloc[row_idx, 0]]))\n",
    "    level1 = np.abs(df_hist['loanstatus'].corr(df_hist[top_corr.iloc[row_idx, 1]]))\n",
    "    if level0 > level1:\n",
    "        fn_nu_remove.append(top_corr.iloc[row_idx, 1])\n",
    "    else:\n",
    "        fn_nu_remove.append(top_corr.iloc[row_idx, 0])\n",
    "    fn_nu_remove = list(set(fn_nu_remove))"
   ]
  },
  {
   "cell_type": "code",
   "execution_count": 184,
   "metadata": {},
   "outputs": [
    {
     "name": "stdout",
     "output_type": "stream",
     "text": [
      "Remove the following features who are highly correlated with other features:\n"
     ]
    },
    {
     "data": {
      "text/plain": [
       "['avgcurbal',\n",
       " 'ficorangehigh',\n",
       " 'fundedamount',\n",
       " 'installment',\n",
       " 'mthssincerecentrevoldelinq',\n",
       " 'numactvrevtl',\n",
       " 'openacc',\n",
       " 'totalilhighcreditlimit',\n",
       " 'totcurbal']"
      ]
     },
     "execution_count": 184,
     "metadata": {},
     "output_type": "execute_result"
    }
   ],
   "source": [
    "print(\"Remove the following features who are highly correlated with other features:\")\n",
    "sorted(fn_nu_remove)"
   ]
  },
  {
   "cell_type": "code",
   "execution_count": 185,
   "metadata": {},
   "outputs": [
    {
     "name": "stdout",
     "output_type": "stream",
     "text": [
      "The number of numeric features is 53\n"
     ]
    }
   ],
   "source": [
    "fn_num = list(set(fn_num) - set(fn_nu_remove))\n",
    "print(\"The number of numeric features is %d\" %len(fn_num))"
   ]
  },
  {
   "cell_type": "markdown",
   "metadata": {},
   "source": [
    "<a id='3.3'></a>\n",
    "### 3.3 Generate the cleaned dataset for modeling"
   ]
  },
  {
   "cell_type": "markdown",
   "metadata": {},
   "source": [
    "* The cleaned dataset has 162,545 loans with 64 features and 1 target label (loan status)"
   ]
  },
  {
   "cell_type": "code",
   "execution_count": 186,
   "metadata": {},
   "outputs": [],
   "source": [
    "select_feature = fn_num + fn_OHE "
   ]
  },
  {
   "cell_type": "code",
   "execution_count": 187,
   "metadata": {},
   "outputs": [
    {
     "data": {
      "text/plain": [
       "64"
      ]
     },
     "execution_count": 187,
     "metadata": {},
     "output_type": "execute_result"
    }
   ],
   "source": [
    "len(select_feature)"
   ]
  },
  {
   "cell_type": "code",
   "execution_count": 188,
   "metadata": {},
   "outputs": [],
   "source": [
    "other_feature = ['grade', 'subgrade', 'issued']"
   ]
  },
  {
   "cell_type": "code",
   "execution_count": 189,
   "metadata": {},
   "outputs": [],
   "source": [
    "target = ['loanstatus']"
   ]
  },
  {
   "cell_type": "code",
   "execution_count": 190,
   "metadata": {},
   "outputs": [],
   "source": [
    "# Generate the cleaned dataset for modeling\n",
    "df_hist = df_hist[select_feature + other_feature + target]"
   ]
  },
  {
   "cell_type": "code",
   "execution_count": 191,
   "metadata": {},
   "outputs": [
    {
     "data": {
      "text/plain": [
       "(162545, 68)"
      ]
     },
     "execution_count": 191,
     "metadata": {},
     "output_type": "execute_result"
    }
   ],
   "source": [
    "df_hist.shape"
   ]
  },
  {
   "cell_type": "markdown",
   "metadata": {},
   "source": [
    "<a id='4'></a>\n",
    "## 4. XGBoost Modeling"
   ]
  },
  {
   "cell_type": "markdown",
   "metadata": {},
   "source": [
    "We chose to use XGBoost machine learning algorithm to train the model. XGBoost is an implementation of gradient boosted (GBM) decision trees designed for speed and performance. "
   ]
  },
  {
   "cell_type": "markdown",
   "metadata": {},
   "source": [
    "<a id='4.1'></a>\n",
    "### 4.1 Generate training and testing sets"
   ]
  },
  {
   "cell_type": "code",
   "execution_count": 336,
   "metadata": {},
   "outputs": [],
   "source": [
    "test_issued = ['Dec-2014', 'Nov-2014']\n",
    "df_test = df_hist[df_hist.issued.isin(test_issued)]\n",
    "test_x = df_test[select_feature]\n",
    "test_y = df_test[target]\n",
    "df_train = df_hist[~df_hist.issued.isin(test_issued)]\n",
    "train_x = df_train[select_feature]\n",
    "train_y = df_train[target]"
   ]
  },
  {
   "cell_type": "code",
   "execution_count": 337,
   "metadata": {},
   "outputs": [
    {
     "data": {
      "text/plain": [
       "((139120, 64), (23425, 64), (139120, 1), (23425, 1))"
      ]
     },
     "execution_count": 337,
     "metadata": {},
     "output_type": "execute_result"
    }
   ],
   "source": [
    "train_x.shape, test_x.shape, train_y.shape, test_y.shape"
   ]
  },
  {
   "cell_type": "code",
   "execution_count": 235,
   "metadata": {},
   "outputs": [],
   "source": [
    "# Let XGBoost's in-built routine to handle missing values\n",
    "xgbtrain = xgb.DMatrix(train_x, label=train_y.values.reshape(train_x.shape[0], 1), missing=np.nan)\n",
    "xgbtest = xgb.DMatrix(test_x, label=test_y.values.reshape(test_x.shape[0], 1), missing=np.nan)"
   ]
  },
  {
   "cell_type": "markdown",
   "metadata": {},
   "source": [
    "<a id='4.2'></a>\n",
    "### 4.2 XGBoost parameter tuning"
   ]
  },
  {
   "cell_type": "code",
   "execution_count": 236,
   "metadata": {},
   "outputs": [],
   "source": [
    "score_names = ['score', 'eta', 'max_depth', 'min_child_weight', 'colsample_bytree', 'subsample', 'gamma', 'reg_alpha', 'reg_lambda', 'best_iteration']\n",
    "scores = pd.DataFrame([], columns=score_names)"
   ]
  },
  {
   "cell_type": "code",
   "execution_count": 237,
   "metadata": {},
   "outputs": [],
   "source": [
    "def xgb_param_tuning(param_name, param_value):\n",
    "    \"\"\"\n",
    "    Use cross validation to train the xgboost model with the given parameter value and return the AUC scores.\n",
    "    @params:\n",
    "        param_name      - Required: the parameter's name (str)\n",
    "        param_value       - Required: the parameter's value (float)\n",
    "    \"\"\"\n",
    "    params[param_name] = param_value\n",
    "    \n",
    "    cv_results = xgb.cv(params, xgbtrain,\n",
    "                        num_boost_round=10000,\n",
    "                        nfold=5,\n",
    "                        metrics={'auc'},\n",
    "                        stratified=True,\n",
    "                        shuffle=True,\n",
    "                        seed=42,\n",
    "                        early_stopping_rounds=50)\n",
    "    \n",
    "    best_iteration = len(cv_results)\n",
    "    best_score = cv_results['test-auc-mean'].max()\n",
    "    print(param_name, ':', param_value, ', best_score: ', best_score, ', best_iteration: ', best_iteration)\n",
    "    new_score = pd.DataFrame([[best_score, params['eta'], params['max_depth'], params['min_child_weight'], params['colsample_bytree'], \n",
    "                   params['subsample'], params['gamma'], params['reg_alpha'], params['reg_lambda'], best_iteration]], columns=score_names)\n",
    "    return new_score "
   ]
  },
  {
   "cell_type": "markdown",
   "metadata": {},
   "source": [
    "<a id='4.2.1'></a>\n",
    "#### 4.2.1 max_depth"
   ]
  },
  {
   "cell_type": "code",
   "execution_count": 238,
   "metadata": {},
   "outputs": [
    {
     "name": "stdout",
     "output_type": "stream",
     "text": [
      "max_depth : 3 , best_score:  0.6907528 , best_iteration:  432\n",
      "max_depth : 4 , best_score:  0.6897304 , best_iteration:  209\n",
      "max_depth : 5 , best_score:  0.6895248 , best_iteration:  133\n",
      "max_depth : 6 , best_score:  0.6887373999999999 , best_iteration:  112\n",
      "max_depth : 7 , best_score:  0.6870493999999999 , best_iteration:  67\n",
      "max_depth : 8 , best_score:  0.6854404 , best_iteration:  66\n",
      "best max_depth is 3\n"
     ]
    }
   ],
   "source": [
    "params = dict()\n",
    "params['objective'] = 'binary:logistic'\n",
    "params['eta'] = 0.1\n",
    "params['min_child_weight'] = 1\n",
    "params['colsample_bytree'] = 1\n",
    "params['subsample'] = 1\n",
    "params['gamma'] = 0\n",
    "params['reg_alpha'] = 0\n",
    "params['reg_lambda'] = 1\n",
    "params['seed'] = 42\n",
    "\n",
    "for max_depth in [3, 4, 5, 6, 7, 8]:\n",
    "    new_score = xgb_param_tuning('max_depth', max_depth)\n",
    "    scores = pd.concat([scores, new_score])   \n",
    "\n",
    "best_max_depth = scores.sort_values(by='score', ascending=False)['max_depth'].values[0]\n",
    "print('best max_depth is', best_max_depth)"
   ]
  },
  {
   "cell_type": "code",
   "execution_count": 239,
   "metadata": {},
   "outputs": [],
   "source": [
    "#best_max_depth = 3"
   ]
  },
  {
   "cell_type": "markdown",
   "metadata": {},
   "source": [
    "<a id='4.2.2'></a>\n",
    "#### 4.2.2 min_child_weight"
   ]
  },
  {
   "cell_type": "code",
   "execution_count": 240,
   "metadata": {},
   "outputs": [
    {
     "name": "stdout",
     "output_type": "stream",
     "text": [
      "min_child_weight : 1 , best_score:  0.6907528 , best_iteration:  432\n",
      "min_child_weight : 10 , best_score:  0.6916312 , best_iteration:  355\n",
      "min_child_weight : 20 , best_score:  0.6912228 , best_iteration:  380\n",
      "min_child_weight : 30 , best_score:  0.6913374 , best_iteration:  367\n",
      "min_child_weight : 40 , best_score:  0.6914478 , best_iteration:  365\n",
      "min_child_weight : 50 , best_score:  0.6916906 , best_iteration:  343\n",
      "min_child_weight : 70 , best_score:  0.6923980000000001 , best_iteration:  412\n",
      "min_child_weight : 100 , best_score:  0.6922134 , best_iteration:  382\n",
      "min_child_weight : 120 , best_score:  0.6930069999999999 , best_iteration:  451\n",
      "min_child_weight : 150 , best_score:  0.6926653999999999 , best_iteration:  432\n",
      "min_child_weight : 170 , best_score:  0.6921676000000001 , best_iteration:  395\n",
      "min_child_weight : 200 , best_score:  0.6919992 , best_iteration:  459\n",
      "best min_child_weight is 120\n"
     ]
    }
   ],
   "source": [
    "params = dict()\n",
    "params['objective'] = 'binary:logistic'\n",
    "params['eta'] = 0.1\n",
    "params['colsample_bytree'] = 1\n",
    "params['subsample'] = 1\n",
    "params['gamma'] = 0\n",
    "params['reg_alpha'] = 0\n",
    "params['reg_lambda'] = 1\n",
    "params['seed'] = 42\n",
    "params['max_depth'] = best_max_depth\n",
    "\n",
    "\n",
    "for min_child_weight in [1, 10, 20, 30, 40, 50, 70, 100, 120, 150, 170, 200]:\n",
    "    new_score = xgb_param_tuning('min_child_weight', min_child_weight)\n",
    "    scores = pd.concat([scores, new_score])   \n",
    "\n",
    "best_min_child_weight = scores.sort_values(by='score', ascending=False)['min_child_weight'].values[0]\n",
    "print('best min_child_weight is', best_min_child_weight)"
   ]
  },
  {
   "cell_type": "code",
   "execution_count": 241,
   "metadata": {},
   "outputs": [],
   "source": [
    "#best_min_child_weight=120"
   ]
  },
  {
   "cell_type": "markdown",
   "metadata": {},
   "source": [
    "<a id='4.2.3'></a>\n",
    "#### 4.2.3 colsample_bytree"
   ]
  },
  {
   "cell_type": "code",
   "execution_count": 242,
   "metadata": {},
   "outputs": [
    {
     "name": "stdout",
     "output_type": "stream",
     "text": [
      "colsample_bytree : 0.1 , best_score:  0.6914436 , best_iteration:  474\n",
      "colsample_bytree : 0.3 , best_score:  0.692388 , best_iteration:  477\n",
      "colsample_bytree : 0.5 , best_score:  0.6924695999999999 , best_iteration:  370\n",
      "colsample_bytree : 0.7 , best_score:  0.6926234000000001 , best_iteration:  401\n",
      "colsample_bytree : 0.9 , best_score:  0.6923566000000001 , best_iteration:  339\n",
      "colsample_bytree : 1 , best_score:  0.6930069999999999 , best_iteration:  451\n",
      "best colsample_bytree is 1\n"
     ]
    }
   ],
   "source": [
    "params = dict()\n",
    "params['objective'] = 'binary:logistic'\n",
    "params['eta'] = 0.1\n",
    "params['subsample'] = 1\n",
    "params['gamma'] = 0\n",
    "params['reg_alpha'] = 0\n",
    "params['reg_lambda'] = 1\n",
    "params['seed'] = 42\n",
    "params['max_depth'] = best_max_depth\n",
    "params['min_child_weight'] = best_min_child_weight\n",
    "\n",
    "\n",
    "for colsample_bytree in [0.1, 0.3, 0.5, 0.7, 0.9, 1]:\n",
    "    new_score = xgb_param_tuning('colsample_bytree', colsample_bytree)\n",
    "    scores = pd.concat([scores, new_score])       \n",
    "\n",
    "best_colsample_bytree = scores.sort_values(by='score', ascending=False)['colsample_bytree'].values[0]\n",
    "print('best colsample_bytree is', best_colsample_bytree)"
   ]
  },
  {
   "cell_type": "code",
   "execution_count": 243,
   "metadata": {},
   "outputs": [],
   "source": [
    "#best_colsample_bytree=1"
   ]
  },
  {
   "cell_type": "markdown",
   "metadata": {},
   "source": [
    "<a id='4.2.4'></a>\n",
    "#### 4.2.4 subsample"
   ]
  },
  {
   "cell_type": "code",
   "execution_count": 244,
   "metadata": {},
   "outputs": [
    {
     "name": "stdout",
     "output_type": "stream",
     "text": [
      "subsample : 0.5 , best_score:  0.692067 , best_iteration:  321\n",
      "subsample : 0.6 , best_score:  0.6922544 , best_iteration:  306\n",
      "subsample : 0.7 , best_score:  0.6922416 , best_iteration:  317\n",
      "subsample : 0.8 , best_score:  0.6925584 , best_iteration:  348\n",
      "subsample : 0.9 , best_score:  0.6922514000000001 , best_iteration:  365\n",
      "subsample : 1 , best_score:  0.6930069999999999 , best_iteration:  451\n",
      "best subsample is 1\n"
     ]
    }
   ],
   "source": [
    "params = dict()\n",
    "params['objective'] = 'binary:logistic'\n",
    "params['eta'] = 0.1\n",
    "params['gamma'] = 0\n",
    "params['reg_alpha'] = 0\n",
    "params['reg_lambda'] = 1\n",
    "params['seed'] = 42\n",
    "params['max_depth'] = best_max_depth\n",
    "params['min_child_weight'] = best_min_child_weight\n",
    "params['colsample_bytree'] = best_colsample_bytree\n",
    "\n",
    "\n",
    "for subsample in [ 0.5, 0.6, 0.7, 0.8, 0.9, 1]:\n",
    "    new_score = xgb_param_tuning('subsample', subsample)\n",
    "    scores = pd.concat([scores, new_score])       \n",
    "\n",
    "    \n",
    "best_subsample = scores.sort_values(by='score', ascending=False)['subsample'].values[0]\n",
    "print('best subsample is', best_subsample)"
   ]
  },
  {
   "cell_type": "code",
   "execution_count": 245,
   "metadata": {},
   "outputs": [],
   "source": [
    "#best_subsample=1"
   ]
  },
  {
   "cell_type": "markdown",
   "metadata": {},
   "source": [
    "<a id='4.2.5'></a>\n",
    "#### 4.2.5 gamma"
   ]
  },
  {
   "cell_type": "code",
   "execution_count": 246,
   "metadata": {
    "scrolled": true
   },
   "outputs": [
    {
     "name": "stdout",
     "output_type": "stream",
     "text": [
      "gamma : 0 , best_score:  0.6930069999999999 , best_iteration:  451\n",
      "gamma : 0.1 , best_score:  0.6930069999999999 , best_iteration:  451\n",
      "gamma : 0.3 , best_score:  0.6930069999999999 , best_iteration:  451\n",
      "gamma : 0.5 , best_score:  0.6930069999999999 , best_iteration:  451\n",
      "gamma : 0.7 , best_score:  0.6930069999999999 , best_iteration:  451\n",
      "gamma : 1 , best_score:  0.6930069999999999 , best_iteration:  451\n",
      "gamma : 1.5 , best_score:  0.692992 , best_iteration:  449\n",
      "gamma : 2 , best_score:  0.6929869999999999 , best_iteration:  429\n",
      "best gamma is 1\n"
     ]
    }
   ],
   "source": [
    "params = dict()\n",
    "params['objective'] = 'binary:logistic'\n",
    "params['eta'] = 0.1\n",
    "params['reg_alpha'] = 0\n",
    "params['reg_lambda'] = 1\n",
    "params['seed'] = 42\n",
    "params['max_depth'] = best_max_depth\n",
    "params['min_child_weight'] = best_min_child_weight\n",
    "params['colsample_bytree'] = best_colsample_bytree\n",
    "params['subsample'] = best_subsample\n",
    "\n",
    "\n",
    "for gamma in  [0, 0.1, 0.3, 0.5, 0.7, 1, 1.5, 2]:\n",
    "    new_score = xgb_param_tuning('gamma', gamma)\n",
    "    scores = pd.concat([scores, new_score])       \n",
    "\n",
    "    \n",
    "best_gamma = scores.sort_values(by='score', ascending=False)['gamma'].values[0]\n",
    "print('best gamma is', best_gamma)"
   ]
  },
  {
   "cell_type": "code",
   "execution_count": 247,
   "metadata": {},
   "outputs": [],
   "source": [
    "#best_gamma=1"
   ]
  },
  {
   "cell_type": "markdown",
   "metadata": {},
   "source": [
    "<a id='4.2.6'></a>\n",
    "#### 4.2.6 reg_alpha"
   ]
  },
  {
   "cell_type": "code",
   "execution_count": 248,
   "metadata": {},
   "outputs": [
    {
     "name": "stdout",
     "output_type": "stream",
     "text": [
      "reg_alpha : 0 , best_score:  0.6930069999999999 , best_iteration:  451\n",
      "reg_alpha : 0.5 , best_score:  0.6923146000000001 , best_iteration:  359\n",
      "reg_alpha : 1 , best_score:  0.6924114 , best_iteration:  383\n",
      "reg_alpha : 1.5 , best_score:  0.6925051999999999 , best_iteration:  411\n",
      "reg_alpha : 2 , best_score:  0.6925386 , best_iteration:  435\n",
      "reg_alpha : 2.2 , best_score:  0.6923268 , best_iteration:  330\n",
      "reg_alpha : 2.5 , best_score:  0.692531 , best_iteration:  456\n",
      "reg_alpha : 2.8 , best_score:  0.6922090000000001 , best_iteration:  391\n",
      "reg_alpha : 3 , best_score:  0.692395 , best_iteration:  451\n",
      "best reg_alpha is 0\n"
     ]
    }
   ],
   "source": [
    "params = dict()\n",
    "params['objective'] = 'binary:logistic'\n",
    "params['eta'] = 0.1\n",
    "params['reg_lambda'] = 1\n",
    "params['seed'] = 42\n",
    "params['max_depth'] = best_max_depth\n",
    "params['min_child_weight'] = best_min_child_weight\n",
    "params['colsample_bytree'] = best_colsample_bytree\n",
    "params['subsample'] = best_subsample\n",
    "params['gamma'] = best_gamma\n",
    "\n",
    "for reg_alpha in  [0, 0.5, 1, 1.5, 2, 2.2, 2.5, 2.8, 3]:\n",
    "    new_score = xgb_param_tuning('reg_alpha', reg_alpha)\n",
    "    scores = pd.concat([scores, new_score])       \n",
    "\n",
    "    \n",
    "best_reg_alpha = scores.sort_values(by='score', ascending=False)['reg_alpha'].values[0]\n",
    "print('best reg_alpha is', best_reg_alpha)"
   ]
  },
  {
   "cell_type": "code",
   "execution_count": 249,
   "metadata": {},
   "outputs": [],
   "source": [
    "#best_reg_alpha=0"
   ]
  },
  {
   "cell_type": "markdown",
   "metadata": {},
   "source": [
    "<a id='4.2.7'></a>\n",
    "#### 4.2.7 reg_lambda"
   ]
  },
  {
   "cell_type": "code",
   "execution_count": 250,
   "metadata": {},
   "outputs": [
    {
     "name": "stdout",
     "output_type": "stream",
     "text": [
      "reg_lambda : 0 , best_score:  0.6922406000000001 , best_iteration:  338\n",
      "reg_lambda : 0.2 , best_score:  0.6924372 , best_iteration:  435\n",
      "reg_lambda : 0.5 , best_score:  0.6921628 , best_iteration:  416\n",
      "reg_lambda : 0.7 , best_score:  0.692485 , best_iteration:  369\n",
      "reg_lambda : 1 , best_score:  0.6930069999999999 , best_iteration:  451\n",
      "reg_lambda : 1.2 , best_score:  0.6924572 , best_iteration:  374\n",
      "reg_lambda : 1.5 , best_score:  0.6927892 , best_iteration:  492\n",
      "reg_lambda : 1.7 , best_score:  0.6926460000000001 , best_iteration:  339\n",
      "reg_lambda : 2 , best_score:  0.6921004 , best_iteration:  412\n",
      "best reg_lambda is 1\n"
     ]
    }
   ],
   "source": [
    "params = dict()\n",
    "params['objective'] = 'binary:logistic'\n",
    "params['eta'] = 0.1\n",
    "params['reg_lambda'] = 1\n",
    "params['seed'] = 42\n",
    "params['max_depth'] = best_max_depth\n",
    "params['min_child_weight'] = best_min_child_weight\n",
    "params['colsample_bytree'] = best_colsample_bytree\n",
    "params['subsample'] = best_subsample\n",
    "params['gamma'] = best_gamma\n",
    "params['reg_alpha'] = best_reg_alpha\n",
    "\n",
    "for reg_lambda in  [0, 0.2, 0.5, 0.7, 1, 1.2, 1.5, 1.7, 2]:\n",
    "    new_score = xgb_param_tuning('reg_lambda', reg_lambda)\n",
    "    scores = pd.concat([scores, new_score])       \n",
    "\n",
    "    \n",
    "best_reg_lambda = scores.sort_values(by='score', ascending=False)['reg_lambda'].values[0]\n",
    "print('best reg_lambda is', best_reg_lambda)"
   ]
  },
  {
   "cell_type": "code",
   "execution_count": 251,
   "metadata": {},
   "outputs": [],
   "source": [
    "#best_reg_lambda=1"
   ]
  },
  {
   "cell_type": "code",
   "execution_count": 252,
   "metadata": {},
   "outputs": [],
   "source": [
    "params['reg_lambda'] = best_reg_lambda"
   ]
  },
  {
   "cell_type": "markdown",
   "metadata": {},
   "source": [
    "<a id='4.2.8'></a>\n",
    "#### 4.2.8 Train model with a smaller eta"
   ]
  },
  {
   "cell_type": "code",
   "execution_count": 253,
   "metadata": {},
   "outputs": [
    {
     "name": "stdout",
     "output_type": "stream",
     "text": [
      "0.69235 3571\n"
     ]
    }
   ],
   "source": [
    "params['eta'] = 0.01\n",
    "\n",
    "cv_results = xgb.cv(params, xgbtrain,\n",
    "                    num_boost_round=10000,\n",
    "                    nfold=5,\n",
    "                    metrics='auc',\n",
    "                    stratified=True,\n",
    "                    shuffle=True,\n",
    "                    seed=42,\n",
    "                    early_stopping_rounds=50)\n",
    "\n",
    "best_xgb_iteration = len(cv_results)\n",
    "best_score = cv_results['test-auc-mean'].max()\n",
    "print(best_score, best_xgb_iteration)"
   ]
  },
  {
   "cell_type": "code",
   "execution_count": 254,
   "metadata": {},
   "outputs": [],
   "source": [
    "#best_xgb_iteration = 3571"
   ]
  },
  {
   "cell_type": "code",
   "execution_count": 255,
   "metadata": {},
   "outputs": [],
   "source": [
    "params['eval_metric'] = \"auc\""
   ]
  },
  {
   "cell_type": "code",
   "execution_count": 256,
   "metadata": {},
   "outputs": [
    {
     "data": {
      "text/plain": [
       "{'colsample_bytree': 1,\n",
       " 'eta': 0.01,\n",
       " 'eval_metric': 'auc',\n",
       " 'gamma': 1,\n",
       " 'max_depth': 3,\n",
       " 'min_child_weight': 120,\n",
       " 'objective': 'binary:logistic',\n",
       " 'reg_alpha': 0,\n",
       " 'reg_lambda': 1,\n",
       " 'seed': 42,\n",
       " 'subsample': 1}"
      ]
     },
     "execution_count": 256,
     "metadata": {},
     "output_type": "execute_result"
    }
   ],
   "source": [
    "# The final parameter setting for the tuned model\n",
    "params"
   ]
  },
  {
   "cell_type": "code",
   "execution_count": 257,
   "metadata": {},
   "outputs": [],
   "source": [
    "# Training model with the tuned parameters\n",
    "watchlist = [(xgbtrain, 'train'), (xgbtest, 'test')]\n",
    "gbm = xgb.train(params, xgbtrain, num_boost_round=best_xgb_iteration, evals=watchlist, early_stopping_rounds= 50, verbose_eval = False)"
   ]
  },
  {
   "cell_type": "markdown",
   "metadata": {},
   "source": [
    "<a id='4.3'></a>\n",
    "### 4.3 ROC curve"
   ]
  },
  {
   "cell_type": "code",
   "execution_count": 258,
   "metadata": {},
   "outputs": [],
   "source": [
    "def draw_ROC(model, dtrain, dtest, y_train, y_test ):\n",
    "    \"\"\"\n",
    "    Return the area under the ROC curve for training and testing datasets. Then plot the ROC curve.\n",
    "    @params:\n",
    "        model                 - Required: the trained model (xgboost.core.Booster)\n",
    "        dtrain                  - Required: training dataset (xgboost.core.DMatrix)\n",
    "        dtest                   - Required: testing dataset (xgboost.core.DMatrix)\n",
    "        y_train                 - Required: training label (pandas.core.series.Series)\n",
    "        y_test                  - Required: testing label (pandas.core.series.Series)\n",
    "    \"\"\"\n",
    "    probas_1 = model.predict(dtrain, ntree_limit=model.best_ntree_limit)\n",
    "    probas_2 = model.predict(dtest, ntree_limit=model.best_ntree_limit)\n",
    "    fpr_1, tpr_1, thresholds_1 = metrics.roc_curve(y_train, probas_1)\n",
    "    fpr_2, tpr_2, thresholds_2 = metrics.roc_curve(y_test, probas_2)\n",
    "    roc_auc_1 = metrics.auc(fpr_1, tpr_1)\n",
    "    roc_auc_2 = metrics.auc(fpr_2, tpr_2)\n",
    "    print(\"Area under the ROC curve - train: %f\" % roc_auc_1)\n",
    "    print(\"Area under the ROC curve - test: %f\" % roc_auc_2)\n",
    "    # Plot ROC curve\n",
    "    fig = plt.figure(figsize=(8,8))\n",
    "    plt.plot(fpr_1, tpr_1, label='ROC curve - train (AUC = %0.2f)' % roc_auc_1, color='b')\n",
    "    plt.plot(fpr_2, tpr_2, label='ROC curve - test (AUC = %0.2f)' % roc_auc_2, color='g')\n",
    "    plt.plot([0, 1], [0, 1], 'k--')\n",
    "    plt.xlim([0.0, 1.0])\n",
    "    plt.ylim([0.0, 1.0])\n",
    "    plt.xlabel('False Positive Rate')\n",
    "    plt.ylabel('True Positive Rate')\n",
    "    plt.title('ROC for lead score model')\n",
    "    plt.legend(loc=\"lower right\")\n",
    "    plt.show()"
   ]
  },
  {
   "cell_type": "code",
   "execution_count": 259,
   "metadata": {
    "scrolled": true
   },
   "outputs": [
    {
     "name": "stdout",
     "output_type": "stream",
     "text": [
      "Area under the ROC curve - train: 0.709898\n",
      "Area under the ROC curve - test: 0.701050\n"
     ]
    },
    {
     "data": {
      "image/png": "[encoded data removed]",
      "text/plain": [
       "<Figure size 576x576 with 1 Axes>"
      ]
     },
     "metadata": {},
     "output_type": "display_data"
    }
   ],
   "source": [
    "draw_ROC(gbm, xgbtrain, xgbtest, train_y, test_y)"
   ]
  },
  {
   "cell_type": "markdown",
   "metadata": {},
   "source": [
    "<a id='4.4'></a>\n",
    "### 4.4 Model performance"
   ]
  },
  {
   "cell_type": "markdown",
   "metadata": {},
   "source": [
    "This project is to help investors identify the good loans and minimize the exposure of default risk. Thus, we focus the model accuracy on the true positive rate (TPR) and the negative predictive value (NPV). \n",
    "\n",
    "* **True positive rate (TPR)** is also called recall, or sensitivity, which measures the proportion of actual default loans that are correctly identified as such. \n",
    "\n",
    "* **Negative predictive value (NPV)** is the proportions of of predicted non-default loans that are really non-default loans.\n",
    "\n",
    "That is to say, if we label loans with probability of default higher than 0.10 as \"bad\" loans, our model can correctly idenfity 78.6% of the bad loans, and at the same time, 93.3% of the loans that are labeled as \"good\" loans are real non-default loans."
   ]
  },
  {
   "cell_type": "code",
   "execution_count": 260,
   "metadata": {},
   "outputs": [],
   "source": [
    "test_y_prob = gbm.predict(xgbtest, ntree_limit=gbm.best_ntree_limit)"
   ]
  },
  {
   "cell_type": "markdown",
   "metadata": {},
   "source": [
    "* The following table shows the performance metrics under different thresholds:"
   ]
  },
  {
   "cell_type": "code",
   "execution_count": 261,
   "metadata": {},
   "outputs": [
    {
     "name": "stdout",
     "output_type": "stream",
     "text": [
      "Threshold: 0.05, Recall: 0.9685, Precision: 0.1595, NPV: 0.9694, f1-score: 0.273940\n",
      "Threshold: 0.10, Recall: 0.7859, Precision: 0.2004, NPV: 0.9327, f1-score: 0.319428\n",
      "Threshold: 0.15, Recall: 0.5794, Precision: 0.2450, NPV: 0.9112, f1-score: 0.344386\n",
      "Threshold: 0.20, Recall: 0.3811, Precision: 0.2880, NPV: 0.8929, f1-score: 0.328113\n",
      "Threshold: 0.25, Recall: 0.2207, Precision: 0.3263, NPV: 0.8787, f1-score: 0.263339\n",
      "Threshold: 0.30, Recall: 0.1073, Precision: 0.3620, NPV: 0.8688, f1-score: 0.165575\n",
      "Threshold: 0.35, Recall: 0.0437, Precision: 0.3913, NPV: 0.8632, f1-score: 0.078560\n",
      "Threshold: 0.40, Recall: 0.0158, Precision: 0.4228, NPV: 0.8607, f1-score: 0.030400\n",
      "Threshold: 0.45, Recall: 0.0052, Precision: 0.6071, NPV: 0.8598, f1-score: 0.010222\n"
     ]
    }
   ],
   "source": [
    "# List different thresholds for probability of default to label the bad loans\n",
    "for prob in np.arange(0.05, 0.50, 0.05):\n",
    "    test_y_pred = [1 if pred>prob else 0 for pred in test_y_prob]\n",
    "    conf_mat = metrics.confusion_matrix(test_y, test_y_pred)\n",
    "    TPR = conf_mat[1,1]/(conf_mat[1,1]+conf_mat[1,0]) \n",
    "    NPV = conf_mat[0,0]/(conf_mat[0,0]+conf_mat[1,0]) \n",
    "    PPV = conf_mat[1,1]/(conf_mat[0,1]+conf_mat[1,1])\n",
    "    f1 = 2/(1/TPR+1/PPV)\n",
    "    print('Threshold: %.2f, Recall: %.4f, Precision: %.4f, NPV: %.4f, f1-score: %4f' %(prob, TPR, PPV, NPV, f1))"
   ]
  },
  {
   "cell_type": "markdown",
   "metadata": {},
   "source": [
    "<a id='4.5'></a>\n",
    "### 4.5 Feature importance"
   ]
  },
  {
   "cell_type": "code",
   "execution_count": 262,
   "metadata": {},
   "outputs": [],
   "source": [
    "importance=gbm.get_fscore()\n",
    "df_importance = pd.Series(importance).reset_index()\n",
    "df_importance.columns = ['feature', 'fscore']\n",
    "df_importance['fscore'] = df_importance['fscore'] / df_importance['fscore'].sum()"
   ]
  },
  {
   "cell_type": "code",
   "execution_count": 263,
   "metadata": {
    "scrolled": false
   },
   "outputs": [
    {
     "data": {
      "text/html": [
       "<div>\n",
       "<style scoped>\n",
       "    .dataframe tbody tr th:only-of-type {\n",
       "        vertical-align: middle;\n",
       "    }\n",
       "\n",
       "    .dataframe tbody tr th {\n",
       "        vertical-align: top;\n",
       "    }\n",
       "\n",
       "    .dataframe thead th {\n",
       "        text-align: right;\n",
       "    }\n",
       "</style>\n",
       "<table border=\"1\" class=\"dataframe\">\n",
       "  <thead>\n",
       "    <tr style=\"text-align: right;\">\n",
       "      <th></th>\n",
       "      <th>feature</th>\n",
       "      <th>fscore</th>\n",
       "    </tr>\n",
       "  </thead>\n",
       "  <tbody>\n",
       "    <tr>\n",
       "      <th>12</th>\n",
       "      <td>intrate</td>\n",
       "      <td>0.086286</td>\n",
       "    </tr>\n",
       "    <tr>\n",
       "      <th>15</th>\n",
       "      <td>loanamount</td>\n",
       "      <td>0.076007</td>\n",
       "    </tr>\n",
       "    <tr>\n",
       "      <th>2</th>\n",
       "      <td>annualinc</td>\n",
       "      <td>0.052566</td>\n",
       "    </tr>\n",
       "    <tr>\n",
       "      <th>6</th>\n",
       "      <td>dti</td>\n",
       "      <td>0.051164</td>\n",
       "    </tr>\n",
       "    <tr>\n",
       "      <th>18</th>\n",
       "      <td>mosinoldrevtlop</td>\n",
       "      <td>0.045947</td>\n",
       "    </tr>\n",
       "    <tr>\n",
       "      <th>53</th>\n",
       "      <td>tothicredlim</td>\n",
       "      <td>0.045168</td>\n",
       "    </tr>\n",
       "    <tr>\n",
       "      <th>0</th>\n",
       "      <td>accopenpast24mths</td>\n",
       "      <td>0.045090</td>\n",
       "    </tr>\n",
       "    <tr>\n",
       "      <th>7</th>\n",
       "      <td>emplength</td>\n",
       "      <td>0.034577</td>\n",
       "    </tr>\n",
       "    <tr>\n",
       "      <th>38</th>\n",
       "      <td>pcttlnvrdlq</td>\n",
       "      <td>0.032163</td>\n",
       "    </tr>\n",
       "    <tr>\n",
       "      <th>17</th>\n",
       "      <td>mosinoldilacct</td>\n",
       "      <td>0.028269</td>\n",
       "    </tr>\n",
       "  </tbody>\n",
       "</table>\n",
       "</div>"
      ],
      "text/plain": [
       "              feature    fscore\n",
       "12            intrate  0.086286\n",
       "15         loanamount  0.076007\n",
       "2           annualinc  0.052566\n",
       "6                 dti  0.051164\n",
       "18    mosinoldrevtlop  0.045947\n",
       "53       tothicredlim  0.045168\n",
       "0   accopenpast24mths  0.045090\n",
       "7           emplength  0.034577\n",
       "38        pcttlnvrdlq  0.032163\n",
       "17     mosinoldilacct  0.028269"
      ]
     },
     "execution_count": 263,
     "metadata": {},
     "output_type": "execute_result"
    }
   ],
   "source": [
    "# Return the top 10 most important features\n",
    "df_importance.sort_values(['fscore'], ascending=False, inplace=True)\n",
    "df_importance[0:10]"
   ]
  },
  {
   "cell_type": "code",
   "execution_count": 423,
   "metadata": {},
   "outputs": [
    {
     "data": {
      "image/png": "[encoded data removed]",
      "text/plain": [
       "<Figure size 576x360 with 1 Axes>"
      ]
     },
     "metadata": {},
     "output_type": "display_data"
    }
   ],
   "source": [
    "df_importance[:10].plot(kind='barh', x='feature', y='fscore', legend=False, figsize=(8, 5))\n",
    "plt.title('XGBoost Feature Importance')\n",
    "plt.xlabel('relative importance')\n",
    "#plt.gcf().savefig('feature_importance_xgb.png')"
   ]
  },
  {
   "cell_type": "code",
   "execution_count": 265,
   "metadata": {},
   "outputs": [
    {
     "data": {
      "text/plain": [
       "Text(0.5,0,'relative importance')"
      ]
     },
     "execution_count": 265,
     "metadata": {},
     "output_type": "execute_result"
    },
    {
     "data": {
      "image/png": "[encoded data removed]",
      "text/plain": [
       "<Figure size 648x1296 with 1 Axes>"
      ]
     },
     "metadata": {},
     "output_type": "display_data"
    }
   ],
   "source": [
    "# Plot feature importance for all features\n",
    "df_importance.plot(kind='barh', x='feature', y='fscore', legend=False, figsize=(9, 18))\n",
    "plt.title('XGBoost Feature Importance')\n",
    "plt.xlabel('relative importance')"
   ]
  },
  {
   "cell_type": "markdown",
   "metadata": {},
   "source": [
    "<a id='4.6'></a>\n",
    "### 4.6 Performance on test data"
   ]
  },
  {
   "cell_type": "markdown",
   "metadata": {},
   "source": [
    "The test dataset contains the loans from November and December 2014. "
   ]
  },
  {
   "cell_type": "code",
   "execution_count": 338,
   "metadata": {},
   "outputs": [],
   "source": [
    "df_test['risk'] = test_y_prob"
   ]
  },
  {
   "cell_type": "code",
   "execution_count": 455,
   "metadata": {},
   "outputs": [],
   "source": [
    "df_test_risk = df_test[['loanstatus', 'grade', 'subgrade', 'intrate', 'loanamount', 'annualinc', 'dti', 'risk']]"
   ]
  },
  {
   "cell_type": "code",
   "execution_count": 456,
   "metadata": {},
   "outputs": [
    {
     "data": {
      "text/plain": [
       "grade\n",
       "A    5885\n",
       "B    7000\n",
       "C    6496\n",
       "D    2988\n",
       "E     905\n",
       "F     134\n",
       "G      17\n",
       "Name: grade, dtype: int64"
      ]
     },
     "execution_count": 456,
     "metadata": {},
     "output_type": "execute_result"
    }
   ],
   "source": [
    "df_test_risk.groupby('grade')['grade'].count()"
   ]
  },
  {
   "cell_type": "code",
   "execution_count": 468,
   "metadata": {},
   "outputs": [],
   "source": [
    "table_100 = pd.DataFrame(columns=['grade', 'sample_100', 'lowest_risk_100'])\n",
    "for grade in ['A', 'B', 'C', 'D', 'E', 'F']:\n",
    "    sample = df_test_risk[df_test_risk.grade==grade].sample(100, random_state=20).sum().loc['loanstatus']\n",
    "    top = df_test_risk[df_test_risk.grade==grade].sort_values(by='risk')[:100].sum().loc['loanstatus']\n",
    "    fraction = round((1-top/sample)*100, 2)\n",
    "    table_100 = table_100.append({'grade': grade, 'sample_100': sample, 'lowest_risk_100': top, 'risk_reduced(%)': fraction}, ignore_index=True)"
   ]
  },
  {
   "cell_type": "markdown",
   "metadata": {},
   "source": [
    "In the following table, under each grade group, \n",
    "* **sample_100**: randomly sample 100 loans, and count the number of defaulted loans\n",
    "* **lowest_risk_100**: choose the top 100 loans with the lowest predicted default risk and count the number of defaulted loans\n",
    "* **risk_reduced(%)**: the precentage of reduced default risk through the prediction model.\n",
    "\n",
    "**Clearly, choosing loans based on the predicted default probability can dramatically reduce the default risk.**"
   ]
  },
  {
   "cell_type": "code",
   "execution_count": 469,
   "metadata": {},
   "outputs": [
    {
     "data": {
      "text/html": [
       "<div>\n",
       "<style scoped>\n",
       "    .dataframe tbody tr th:only-of-type {\n",
       "        vertical-align: middle;\n",
       "    }\n",
       "\n",
       "    .dataframe tbody tr th {\n",
       "        vertical-align: top;\n",
       "    }\n",
       "\n",
       "    .dataframe thead th {\n",
       "        text-align: right;\n",
       "    }\n",
       "</style>\n",
       "<table border=\"1\" class=\"dataframe\">\n",
       "  <thead>\n",
       "    <tr style=\"text-align: right;\">\n",
       "      <th></th>\n",
       "      <th>grade</th>\n",
       "      <th>sample_100</th>\n",
       "      <th>lowest_risk_100</th>\n",
       "      <th>risk_reduced(%)</th>\n",
       "    </tr>\n",
       "  </thead>\n",
       "  <tbody>\n",
       "    <tr>\n",
       "      <th>0</th>\n",
       "      <td>A</td>\n",
       "      <td>5</td>\n",
       "      <td>3</td>\n",
       "      <td>40.00</td>\n",
       "    </tr>\n",
       "    <tr>\n",
       "      <th>1</th>\n",
       "      <td>B</td>\n",
       "      <td>10</td>\n",
       "      <td>3</td>\n",
       "      <td>70.00</td>\n",
       "    </tr>\n",
       "    <tr>\n",
       "      <th>2</th>\n",
       "      <td>C</td>\n",
       "      <td>16</td>\n",
       "      <td>3</td>\n",
       "      <td>81.25</td>\n",
       "    </tr>\n",
       "    <tr>\n",
       "      <th>3</th>\n",
       "      <td>D</td>\n",
       "      <td>23</td>\n",
       "      <td>15</td>\n",
       "      <td>34.78</td>\n",
       "    </tr>\n",
       "    <tr>\n",
       "      <th>4</th>\n",
       "      <td>E</td>\n",
       "      <td>33</td>\n",
       "      <td>19</td>\n",
       "      <td>42.42</td>\n",
       "    </tr>\n",
       "    <tr>\n",
       "      <th>5</th>\n",
       "      <td>F</td>\n",
       "      <td>37</td>\n",
       "      <td>33</td>\n",
       "      <td>10.81</td>\n",
       "    </tr>\n",
       "  </tbody>\n",
       "</table>\n",
       "</div>"
      ],
      "text/plain": [
       "  grade sample_100 lowest_risk_100  risk_reduced(%)\n",
       "0     A          5               3            40.00\n",
       "1     B         10               3            70.00\n",
       "2     C         16               3            81.25\n",
       "3     D         23              15            34.78\n",
       "4     E         33              19            42.42\n",
       "5     F         37              33            10.81"
      ]
     },
     "execution_count": 469,
     "metadata": {},
     "output_type": "execute_result"
    }
   ],
   "source": [
    "table_100"
   ]
  },
  {
   "cell_type": "markdown",
   "metadata": {},
   "source": [
    "**The following table chooses 500 loans under each grade group. Again choosing loans based on the predicted default probability can dramatically reduce the default risk.**"
   ]
  },
  {
   "cell_type": "code",
   "execution_count": 486,
   "metadata": {},
   "outputs": [],
   "source": [
    "table_500 = pd.DataFrame(columns=['grade', 'sample_500', 'lowest_risk_500'])\n",
    "for grade in ['A', 'B', 'C', 'D', 'E']:\n",
    "    sample = df_test_risk[df_test_risk.grade==grade].sample(500, random_state=20).sum().loc['loanstatus']\n",
    "    top = df_test_risk[df_test_risk.grade==grade].sort_values(by='risk')[:500].sum().loc['loanstatus']\n",
    "    fraction = round((1-top/sample)*100, 2)\n",
    "    table_500 = table_500.append({'grade': grade, 'sample_500': sample, 'lowest_risk_500': top, 'risk_reduced(%)': fraction}, ignore_index=True)"
   ]
  },
  {
   "cell_type": "code",
   "execution_count": 487,
   "metadata": {
    "scrolled": true
   },
   "outputs": [
    {
     "data": {
      "text/html": [
       "<div>\n",
       "<style scoped>\n",
       "    .dataframe tbody tr th:only-of-type {\n",
       "        vertical-align: middle;\n",
       "    }\n",
       "\n",
       "    .dataframe tbody tr th {\n",
       "        vertical-align: top;\n",
       "    }\n",
       "\n",
       "    .dataframe thead th {\n",
       "        text-align: right;\n",
       "    }\n",
       "</style>\n",
       "<table border=\"1\" class=\"dataframe\">\n",
       "  <thead>\n",
       "    <tr style=\"text-align: right;\">\n",
       "      <th></th>\n",
       "      <th>grade</th>\n",
       "      <th>sample_500</th>\n",
       "      <th>lowest_risk_500</th>\n",
       "      <th>risk_reduced(%)</th>\n",
       "    </tr>\n",
       "  </thead>\n",
       "  <tbody>\n",
       "    <tr>\n",
       "      <th>0</th>\n",
       "      <td>A</td>\n",
       "      <td>30</td>\n",
       "      <td>7</td>\n",
       "      <td>76.67</td>\n",
       "    </tr>\n",
       "    <tr>\n",
       "      <th>1</th>\n",
       "      <td>B</td>\n",
       "      <td>59</td>\n",
       "      <td>28</td>\n",
       "      <td>52.54</td>\n",
       "    </tr>\n",
       "    <tr>\n",
       "      <th>2</th>\n",
       "      <td>C</td>\n",
       "      <td>83</td>\n",
       "      <td>50</td>\n",
       "      <td>39.76</td>\n",
       "    </tr>\n",
       "    <tr>\n",
       "      <th>3</th>\n",
       "      <td>D</td>\n",
       "      <td>112</td>\n",
       "      <td>84</td>\n",
       "      <td>25.00</td>\n",
       "    </tr>\n",
       "    <tr>\n",
       "      <th>4</th>\n",
       "      <td>E</td>\n",
       "      <td>158</td>\n",
       "      <td>147</td>\n",
       "      <td>6.96</td>\n",
       "    </tr>\n",
       "  </tbody>\n",
       "</table>\n",
       "</div>"
      ],
      "text/plain": [
       "  grade sample_500 lowest_risk_500  risk_reduced(%)\n",
       "0     A         30               7            76.67\n",
       "1     B         59              28            52.54\n",
       "2     C         83              50            39.76\n",
       "3     D        112              84            25.00\n",
       "4     E        158             147             6.96"
      ]
     },
     "execution_count": 487,
     "metadata": {},
     "output_type": "execute_result"
    }
   ],
   "source": [
    "table_500"
   ]
  },
  {
   "cell_type": "code",
   "execution_count": 488,
   "metadata": {},
   "outputs": [],
   "source": [
    "df_test_risk.to_csv('data/df_test_risk_prediction.csv', index=False)"
   ]
  },
  {
   "cell_type": "markdown",
   "metadata": {},
   "source": [
    "<a id='4.7'></a>\n",
    "### 4.7 Export trained model"
   ]
  },
  {
   "cell_type": "code",
   "execution_count": 266,
   "metadata": {},
   "outputs": [],
   "source": [
    "import pickle"
   ]
  },
  {
   "cell_type": "code",
   "execution_count": 267,
   "metadata": {},
   "outputs": [],
   "source": [
    "pickle.dump(gbm, open('model_xgb_dec.pkl', \"wb\"))"
   ]
  },
  {
   "cell_type": "markdown",
   "metadata": {},
   "source": [
    "<a id='5'></a>\n",
    "## 5. Prediction on Current Loans"
   ]
  },
  {
   "cell_type": "markdown",
   "metadata": {},
   "source": [
    "After training the historical data, the rest of the code can be used alone for prediction on current loans."
   ]
  },
  {
   "cell_type": "markdown",
   "metadata": {},
   "source": [
    "<a id='5.1'></a>\n",
    "### 5.1  Load the model"
   ]
  },
  {
   "cell_type": "code",
   "execution_count": 382,
   "metadata": {},
   "outputs": [],
   "source": [
    "# Load the trained model\n",
    "with open(\"model_xgb_dec.pkl\", 'rb') as pkl_file:\n",
    "            gbm = pickle.load(pkl_file)"
   ]
  },
  {
   "cell_type": "markdown",
   "metadata": {},
   "source": [
    "<a id='5.2'></a>\n",
    "### 5.2  Load current loan data"
   ]
  },
  {
   "cell_type": "markdown",
   "metadata": {},
   "source": [
    "LendingClub updates new loans on their platform four times a day. Here we use a timestamp to note the time we pull the loan data and perform the prediction."
   ]
  },
  {
   "cell_type": "code",
   "execution_count": 383,
   "metadata": {},
   "outputs": [
    {
     "name": "stdout",
     "output_type": "stream",
     "text": [
      "2018-07-30 22:57:54.867999\n"
     ]
    }
   ],
   "source": [
    "# This is the timestamp of the new loans being analyzed in this project\n",
    "print(str(datetime.now()))"
   ]
  },
  {
   "cell_type": "code",
   "execution_count": 384,
   "metadata": {},
   "outputs": [],
   "source": [
    "api_key =open('apikey.txt','r').read()\n",
    "\n",
    "headers = {'Authorization':api_key}\n",
    "url='https://api.lendingclub.com/api/investor/v1/loans/listing?showAll=true'\n",
    "\n",
    "r=requests.get(url, headers=headers)"
   ]
  },
  {
   "cell_type": "code",
   "execution_count": 385,
   "metadata": {},
   "outputs": [
    {
     "data": {
      "text/plain": [
       "(396, 119)"
      ]
     },
     "execution_count": 385,
     "metadata": {},
     "output_type": "execute_result"
    }
   ],
   "source": [
    "data=r.json()\n",
    "df_curr = pd.io.json.json_normalize(data['loans'])\n",
    "df_curr.shape"
   ]
  },
  {
   "cell_type": "markdown",
   "metadata": {},
   "source": [
    "<a id='5.3'></a>\n",
    "### 5.3  Data cleaning"
   ]
  },
  {
   "cell_type": "code",
   "execution_count": 386,
   "metadata": {},
   "outputs": [],
   "source": [
    "# Change column names to lowercase\n",
    "df_curr.columns = map(str.lower, df_curr.columns)"
   ]
  },
  {
   "cell_type": "code",
   "execution_count": 387,
   "metadata": {},
   "outputs": [
    {
     "data": {
      "text/plain": [
       "(318, 119)"
      ]
     },
     "execution_count": 387,
     "metadata": {},
     "output_type": "execute_result"
    }
   ],
   "source": [
    "# Choose applicationtype= individual and term=36, since the model is trained on these assumptions\n",
    "df_curr = df_curr[(df_curr.applicationtype=='INDIVIDUAL') & (df_curr.term==36)]\n",
    "df_curr.shape"
   ]
  },
  {
   "cell_type": "code",
   "execution_count": 388,
   "metadata": {},
   "outputs": [],
   "source": [
    "addrstate_freq = pd.read_csv('data/model_addrstate_freq.csv')\n",
    "df_curr = pd.merge(df_curr, addrstate_freq, how = \"left\", on = \"addrstate\")"
   ]
  },
  {
   "cell_type": "code",
   "execution_count": 389,
   "metadata": {},
   "outputs": [],
   "source": [
    "# Re-group the \"purpose\" feature\n",
    "purpose_cat = ['credit_card', 'debt_consolidation', 'home_improvement', 'other']\n",
    "df_curr.loc[~df_curr.purpose.isin(purpose_cat), 'purpose'] = 'rest'"
   ]
  },
  {
   "cell_type": "code",
   "execution_count": 390,
   "metadata": {},
   "outputs": [],
   "source": [
    "# Perform One-Hot-Encoding on these three categorical features\n",
    "fn_obj = ['homeownership', 'isincv', 'purpose']\n",
    "df_dummy = pd.get_dummies(df_curr[fn_obj])\n",
    "df_curr = pd.concat([df_curr, df_dummy], axis=1 )"
   ]
  },
  {
   "cell_type": "code",
   "execution_count": 391,
   "metadata": {},
   "outputs": [],
   "source": [
    "fn_OHE_curr = list(df_dummy.columns.values)"
   ]
  },
  {
   "cell_type": "code",
   "execution_count": 392,
   "metadata": {},
   "outputs": [],
   "source": [
    "# OHE features from the training dataset\n",
    "fn_OHE_hist = ['homeownership_MORTGAGE',\n",
    " 'homeownership_OWN',\n",
    " 'homeownership_RENT',\n",
    " 'purpose_credit_card',\n",
    " 'purpose_debt_consolidation',\n",
    " 'purpose_home_improvement',\n",
    " 'purpose_other',\n",
    " 'purpose_rest',\n",
    " 'isincv_NOT_VERIFIED',\n",
    " 'isincv_SOURCE_VERIFIED',\n",
    " 'isincv_VERIFIED']"
   ]
  },
  {
   "cell_type": "code",
   "execution_count": 393,
   "metadata": {},
   "outputs": [
    {
     "data": {
      "text/plain": [
       "[]"
      ]
     },
     "execution_count": 393,
     "metadata": {},
     "output_type": "execute_result"
    }
   ],
   "source": [
    "# Check if there are missing OHE features from the current dataset\n",
    "fn_add = list(set(fn_OHE_hist)-set(fn_OHE_curr))\n",
    "fn_add"
   ]
  },
  {
   "cell_type": "code",
   "execution_count": 394,
   "metadata": {},
   "outputs": [],
   "source": [
    "# If there are missing OHE features, add them to df_curr and give all values 0\n",
    "for feature in fn_add:\n",
    "    df_curr[feature] = 0"
   ]
  },
  {
   "cell_type": "markdown",
   "metadata": {},
   "source": [
    "<a id='5.4'></a>\n",
    "### 5.4 Predict the default rate "
   ]
  },
  {
   "cell_type": "code",
   "execution_count": 395,
   "metadata": {},
   "outputs": [],
   "source": [
    "test_x = df_curr[gbm.feature_names].copy()"
   ]
  },
  {
   "cell_type": "code",
   "execution_count": 396,
   "metadata": {},
   "outputs": [
    {
     "data": {
      "text/plain": [
       "(318, 64)"
      ]
     },
     "execution_count": 396,
     "metadata": {},
     "output_type": "execute_result"
    }
   ],
   "source": [
    "test_x.shape"
   ]
  },
  {
   "cell_type": "code",
   "execution_count": 397,
   "metadata": {},
   "outputs": [],
   "source": [
    "xgbtest = xgb.DMatrix(test_x, missing=np.nan)"
   ]
  },
  {
   "cell_type": "code",
   "execution_count": 398,
   "metadata": {},
   "outputs": [],
   "source": [
    "test_y_pred = gbm.predict(xgbtest, ntree_limit=gbm.best_ntree_limit)"
   ]
  },
  {
   "cell_type": "markdown",
   "metadata": {},
   "source": [
    "<a id='5.5'></a>\n",
    "### 5.5 Recommend loans based on investors' preference"
   ]
  },
  {
   "cell_type": "markdown",
   "metadata": {},
   "source": [
    "Next we set up a table with most important features and default risk. We also rename features with clear meanings."
   ]
  },
  {
   "cell_type": "code",
   "execution_count": 399,
   "metadata": {},
   "outputs": [],
   "source": [
    "df_curr['default_risk'] = test_y_pred\n",
    "df_curr['amount_to_fund'] = df_curr['loanamount'] - df_curr['fundedamount']"
   ]
  },
  {
   "cell_type": "code",
   "execution_count": 400,
   "metadata": {},
   "outputs": [],
   "source": [
    "# Investors can add or remove features by their preference.\n",
    "top_features = {\n",
    " 'id': 'id',\n",
    " 'grade': 'grade',\n",
    " 'subgrade': 'subgrade',\n",
    " 'dti': 'dti',\n",
    " 'annualinc': 'annual_income',\n",
    " 'emplength': 'employment_length',\n",
    " 'addrstate': 'state',\n",
    " 'intrate': 'interest_rate',\n",
    " 'loanamount': 'loan_amount',\n",
    " 'amount_to_fund': 'amount_to_fund',\n",
    " 'default_risk': 'default_risk'\n",
    "}"
   ]
  },
  {
   "cell_type": "code",
   "execution_count": 401,
   "metadata": {},
   "outputs": [],
   "source": [
    "df_curr_pred = df_curr[list(top_features.keys())]\n",
    "df_curr_pred.columns = list(top_features.values())"
   ]
  },
  {
   "cell_type": "code",
   "execution_count": 402,
   "metadata": {},
   "outputs": [
    {
     "data": {
      "text/html": [
       "<div>\n",
       "<style scoped>\n",
       "    .dataframe tbody tr th:only-of-type {\n",
       "        vertical-align: middle;\n",
       "    }\n",
       "\n",
       "    .dataframe tbody tr th {\n",
       "        vertical-align: top;\n",
       "    }\n",
       "\n",
       "    .dataframe thead th {\n",
       "        text-align: right;\n",
       "    }\n",
       "</style>\n",
       "<table border=\"1\" class=\"dataframe\">\n",
       "  <thead>\n",
       "    <tr style=\"text-align: right;\">\n",
       "      <th></th>\n",
       "      <th>id</th>\n",
       "      <th>grade</th>\n",
       "      <th>subgrade</th>\n",
       "      <th>dti</th>\n",
       "      <th>annual_income</th>\n",
       "      <th>employment_length</th>\n",
       "      <th>state</th>\n",
       "      <th>interest_rate</th>\n",
       "      <th>loan_amount</th>\n",
       "      <th>amount_to_fund</th>\n",
       "      <th>default_risk</th>\n",
       "    </tr>\n",
       "  </thead>\n",
       "  <tbody>\n",
       "    <tr>\n",
       "      <th>0</th>\n",
       "      <td>137323185</td>\n",
       "      <td>A</td>\n",
       "      <td>A4</td>\n",
       "      <td>28.59</td>\n",
       "      <td>50000.0</td>\n",
       "      <td>24.0</td>\n",
       "      <td>IL</td>\n",
       "      <td>7.84</td>\n",
       "      <td>4000.0</td>\n",
       "      <td>50.0</td>\n",
       "      <td>0.080042</td>\n",
       "    </tr>\n",
       "    <tr>\n",
       "      <th>1</th>\n",
       "      <td>137444107</td>\n",
       "      <td>D</td>\n",
       "      <td>D4</td>\n",
       "      <td>20.70</td>\n",
       "      <td>60000.0</td>\n",
       "      <td>36.0</td>\n",
       "      <td>NJ</td>\n",
       "      <td>20.89</td>\n",
       "      <td>8375.0</td>\n",
       "      <td>75.0</td>\n",
       "      <td>0.317653</td>\n",
       "    </tr>\n",
       "    <tr>\n",
       "      <th>2</th>\n",
       "      <td>137348940</td>\n",
       "      <td>C</td>\n",
       "      <td>C2</td>\n",
       "      <td>13.90</td>\n",
       "      <td>60000.0</td>\n",
       "      <td>84.0</td>\n",
       "      <td>AZ</td>\n",
       "      <td>14.47</td>\n",
       "      <td>4000.0</td>\n",
       "      <td>200.0</td>\n",
       "      <td>0.127061</td>\n",
       "    </tr>\n",
       "    <tr>\n",
       "      <th>3</th>\n",
       "      <td>135039365</td>\n",
       "      <td>A</td>\n",
       "      <td>A1</td>\n",
       "      <td>9.07</td>\n",
       "      <td>120000.0</td>\n",
       "      <td>72.0</td>\n",
       "      <td>CA</td>\n",
       "      <td>5.31</td>\n",
       "      <td>22000.0</td>\n",
       "      <td>12775.0</td>\n",
       "      <td>0.044723</td>\n",
       "    </tr>\n",
       "    <tr>\n",
       "      <th>4</th>\n",
       "      <td>137270497</td>\n",
       "      <td>E</td>\n",
       "      <td>E1</td>\n",
       "      <td>21.59</td>\n",
       "      <td>90000.0</td>\n",
       "      <td>120.0</td>\n",
       "      <td>CA</td>\n",
       "      <td>23.40</td>\n",
       "      <td>5200.0</td>\n",
       "      <td>725.0</td>\n",
       "      <td>0.142401</td>\n",
       "    </tr>\n",
       "  </tbody>\n",
       "</table>\n",
       "</div>"
      ],
      "text/plain": [
       "          id grade subgrade    dti  annual_income  employment_length state  \\\n",
       "0  137323185     A       A4  28.59        50000.0               24.0    IL   \n",
       "1  137444107     D       D4  20.70        60000.0               36.0    NJ   \n",
       "2  137348940     C       C2  13.90        60000.0               84.0    AZ   \n",
       "3  135039365     A       A1   9.07       120000.0               72.0    CA   \n",
       "4  137270497     E       E1  21.59        90000.0              120.0    CA   \n",
       "\n",
       "   interest_rate  loan_amount  amount_to_fund  default_risk  \n",
       "0           7.84       4000.0            50.0      0.080042  \n",
       "1          20.89       8375.0            75.0      0.317653  \n",
       "2          14.47       4000.0           200.0      0.127061  \n",
       "3           5.31      22000.0         12775.0      0.044723  \n",
       "4          23.40       5200.0           725.0      0.142401  "
      ]
     },
     "execution_count": 402,
     "metadata": {},
     "output_type": "execute_result"
    }
   ],
   "source": [
    "df_curr_pred.head()"
   ]
  },
  {
   "cell_type": "markdown",
   "metadata": {},
   "source": [
    "Now investors can filter the table with their own preferences."
   ]
  },
  {
   "cell_type": "markdown",
   "metadata": {},
   "source": [
    "#### Scenario 1: Choose loans with interest rate higher than 10%, and list loans by ascending order of default risk "
   ]
  },
  {
   "cell_type": "code",
   "execution_count": 403,
   "metadata": {},
   "outputs": [
    {
     "data": {
      "text/html": [
       "<div>\n",
       "<style scoped>\n",
       "    .dataframe tbody tr th:only-of-type {\n",
       "        vertical-align: middle;\n",
       "    }\n",
       "\n",
       "    .dataframe tbody tr th {\n",
       "        vertical-align: top;\n",
       "    }\n",
       "\n",
       "    .dataframe thead th {\n",
       "        text-align: right;\n",
       "    }\n",
       "</style>\n",
       "<table border=\"1\" class=\"dataframe\">\n",
       "  <thead>\n",
       "    <tr style=\"text-align: right;\">\n",
       "      <th></th>\n",
       "      <th>id</th>\n",
       "      <th>grade</th>\n",
       "      <th>subgrade</th>\n",
       "      <th>dti</th>\n",
       "      <th>annual_income</th>\n",
       "      <th>employment_length</th>\n",
       "      <th>state</th>\n",
       "      <th>interest_rate</th>\n",
       "      <th>loan_amount</th>\n",
       "      <th>amount_to_fund</th>\n",
       "      <th>default_risk</th>\n",
       "    </tr>\n",
       "  </thead>\n",
       "  <tbody>\n",
       "    <tr>\n",
       "      <th>180</th>\n",
       "      <td>137776334</td>\n",
       "      <td>B</td>\n",
       "      <td>B2</td>\n",
       "      <td>12.04</td>\n",
       "      <td>168520.0</td>\n",
       "      <td>120.0</td>\n",
       "      <td>MO</td>\n",
       "      <td>10.47</td>\n",
       "      <td>8000.0</td>\n",
       "      <td>6050.0</td>\n",
       "      <td>0.038396</td>\n",
       "    </tr>\n",
       "    <tr>\n",
       "      <th>186</th>\n",
       "      <td>137344295</td>\n",
       "      <td>B</td>\n",
       "      <td>B1</td>\n",
       "      <td>14.23</td>\n",
       "      <td>62000.0</td>\n",
       "      <td>120.0</td>\n",
       "      <td>NV</td>\n",
       "      <td>10.08</td>\n",
       "      <td>11000.0</td>\n",
       "      <td>6375.0</td>\n",
       "      <td>0.052286</td>\n",
       "    </tr>\n",
       "    <tr>\n",
       "      <th>279</th>\n",
       "      <td>137736682</td>\n",
       "      <td>B</td>\n",
       "      <td>B1</td>\n",
       "      <td>16.99</td>\n",
       "      <td>88000.0</td>\n",
       "      <td>240.0</td>\n",
       "      <td>NJ</td>\n",
       "      <td>10.08</td>\n",
       "      <td>25000.0</td>\n",
       "      <td>18350.0</td>\n",
       "      <td>0.067795</td>\n",
       "    </tr>\n",
       "    <tr>\n",
       "      <th>134</th>\n",
       "      <td>137742742</td>\n",
       "      <td>B</td>\n",
       "      <td>B2</td>\n",
       "      <td>6.71</td>\n",
       "      <td>37000.0</td>\n",
       "      <td>12.0</td>\n",
       "      <td>FL</td>\n",
       "      <td>10.47</td>\n",
       "      <td>5000.0</td>\n",
       "      <td>2925.0</td>\n",
       "      <td>0.068120</td>\n",
       "    </tr>\n",
       "    <tr>\n",
       "      <th>246</th>\n",
       "      <td>137665096</td>\n",
       "      <td>B</td>\n",
       "      <td>B3</td>\n",
       "      <td>12.62</td>\n",
       "      <td>120000.0</td>\n",
       "      <td>216.0</td>\n",
       "      <td>MD</td>\n",
       "      <td>11.06</td>\n",
       "      <td>26000.0</td>\n",
       "      <td>12700.0</td>\n",
       "      <td>0.068246</td>\n",
       "    </tr>\n",
       "    <tr>\n",
       "      <th>141</th>\n",
       "      <td>137530038</td>\n",
       "      <td>B</td>\n",
       "      <td>B4</td>\n",
       "      <td>25.21</td>\n",
       "      <td>97000.0</td>\n",
       "      <td>84.0</td>\n",
       "      <td>OH</td>\n",
       "      <td>11.55</td>\n",
       "      <td>5600.0</td>\n",
       "      <td>3200.0</td>\n",
       "      <td>0.075742</td>\n",
       "    </tr>\n",
       "    <tr>\n",
       "      <th>87</th>\n",
       "      <td>137377578</td>\n",
       "      <td>B</td>\n",
       "      <td>B1</td>\n",
       "      <td>1.92</td>\n",
       "      <td>40000.0</td>\n",
       "      <td>120.0</td>\n",
       "      <td>TX</td>\n",
       "      <td>10.08</td>\n",
       "      <td>35000.0</td>\n",
       "      <td>21725.0</td>\n",
       "      <td>0.081852</td>\n",
       "    </tr>\n",
       "    <tr>\n",
       "      <th>164</th>\n",
       "      <td>137226822</td>\n",
       "      <td>B</td>\n",
       "      <td>B3</td>\n",
       "      <td>12.97</td>\n",
       "      <td>48000.0</td>\n",
       "      <td>144.0</td>\n",
       "      <td>CA</td>\n",
       "      <td>11.06</td>\n",
       "      <td>15000.0</td>\n",
       "      <td>5000.0</td>\n",
       "      <td>0.082181</td>\n",
       "    </tr>\n",
       "    <tr>\n",
       "      <th>184</th>\n",
       "      <td>137488736</td>\n",
       "      <td>B</td>\n",
       "      <td>B2</td>\n",
       "      <td>19.95</td>\n",
       "      <td>90000.0</td>\n",
       "      <td>96.0</td>\n",
       "      <td>GA</td>\n",
       "      <td>10.47</td>\n",
       "      <td>20000.0</td>\n",
       "      <td>6225.0</td>\n",
       "      <td>0.085019</td>\n",
       "    </tr>\n",
       "    <tr>\n",
       "      <th>222</th>\n",
       "      <td>137746289</td>\n",
       "      <td>B</td>\n",
       "      <td>B3</td>\n",
       "      <td>15.53</td>\n",
       "      <td>83000.0</td>\n",
       "      <td>48.0</td>\n",
       "      <td>CA</td>\n",
       "      <td>11.06</td>\n",
       "      <td>20000.0</td>\n",
       "      <td>9700.0</td>\n",
       "      <td>0.085403</td>\n",
       "    </tr>\n",
       "  </tbody>\n",
       "</table>\n",
       "</div>"
      ],
      "text/plain": [
       "            id grade subgrade    dti  annual_income  employment_length state  \\\n",
       "180  137776334     B       B2  12.04       168520.0              120.0    MO   \n",
       "186  137344295     B       B1  14.23        62000.0              120.0    NV   \n",
       "279  137736682     B       B1  16.99        88000.0              240.0    NJ   \n",
       "134  137742742     B       B2   6.71        37000.0               12.0    FL   \n",
       "246  137665096     B       B3  12.62       120000.0              216.0    MD   \n",
       "141  137530038     B       B4  25.21        97000.0               84.0    OH   \n",
       "87   137377578     B       B1   1.92        40000.0              120.0    TX   \n",
       "164  137226822     B       B3  12.97        48000.0              144.0    CA   \n",
       "184  137488736     B       B2  19.95        90000.0               96.0    GA   \n",
       "222  137746289     B       B3  15.53        83000.0               48.0    CA   \n",
       "\n",
       "     interest_rate  loan_amount  amount_to_fund  default_risk  \n",
       "180          10.47       8000.0          6050.0      0.038396  \n",
       "186          10.08      11000.0          6375.0      0.052286  \n",
       "279          10.08      25000.0         18350.0      0.067795  \n",
       "134          10.47       5000.0          2925.0      0.068120  \n",
       "246          11.06      26000.0         12700.0      0.068246  \n",
       "141          11.55       5600.0          3200.0      0.075742  \n",
       "87           10.08      35000.0         21725.0      0.081852  \n",
       "164          11.06      15000.0          5000.0      0.082181  \n",
       "184          10.47      20000.0          6225.0      0.085019  \n",
       "222          11.06      20000.0          9700.0      0.085403  "
      ]
     },
     "execution_count": 403,
     "metadata": {},
     "output_type": "execute_result"
    }
   ],
   "source": [
    "df_curr_pred[df_curr_pred.interest_rate>10].sort_values(by='default_risk').head(10)"
   ]
  },
  {
   "cell_type": "markdown",
   "metadata": {},
   "source": [
    "#### Scenario 2: Choose loans with grade \"C\" and remove loans from CA or FL"
   ]
  },
  {
   "cell_type": "code",
   "execution_count": 404,
   "metadata": {},
   "outputs": [
    {
     "data": {
      "text/html": [
       "<div>\n",
       "<style scoped>\n",
       "    .dataframe tbody tr th:only-of-type {\n",
       "        vertical-align: middle;\n",
       "    }\n",
       "\n",
       "    .dataframe tbody tr th {\n",
       "        vertical-align: top;\n",
       "    }\n",
       "\n",
       "    .dataframe thead th {\n",
       "        text-align: right;\n",
       "    }\n",
       "</style>\n",
       "<table border=\"1\" class=\"dataframe\">\n",
       "  <thead>\n",
       "    <tr style=\"text-align: right;\">\n",
       "      <th></th>\n",
       "      <th>id</th>\n",
       "      <th>grade</th>\n",
       "      <th>subgrade</th>\n",
       "      <th>dti</th>\n",
       "      <th>annual_income</th>\n",
       "      <th>employment_length</th>\n",
       "      <th>state</th>\n",
       "      <th>interest_rate</th>\n",
       "      <th>loan_amount</th>\n",
       "      <th>amount_to_fund</th>\n",
       "      <th>default_risk</th>\n",
       "    </tr>\n",
       "  </thead>\n",
       "  <tbody>\n",
       "    <tr>\n",
       "      <th>90</th>\n",
       "      <td>137460419</td>\n",
       "      <td>C</td>\n",
       "      <td>C1</td>\n",
       "      <td>13.00</td>\n",
       "      <td>48000.0</td>\n",
       "      <td>12.0</td>\n",
       "      <td>OR</td>\n",
       "      <td>13.56</td>\n",
       "      <td>10000.0</td>\n",
       "      <td>5225.0</td>\n",
       "      <td>0.096534</td>\n",
       "    </tr>\n",
       "    <tr>\n",
       "      <th>127</th>\n",
       "      <td>137661847</td>\n",
       "      <td>C</td>\n",
       "      <td>C2</td>\n",
       "      <td>17.18</td>\n",
       "      <td>140000.0</td>\n",
       "      <td>36.0</td>\n",
       "      <td>SC</td>\n",
       "      <td>14.47</td>\n",
       "      <td>12275.0</td>\n",
       "      <td>2450.0</td>\n",
       "      <td>0.097036</td>\n",
       "    </tr>\n",
       "    <tr>\n",
       "      <th>219</th>\n",
       "      <td>137629305</td>\n",
       "      <td>C</td>\n",
       "      <td>C2</td>\n",
       "      <td>8.10</td>\n",
       "      <td>160000.0</td>\n",
       "      <td>36.0</td>\n",
       "      <td>IL</td>\n",
       "      <td>14.47</td>\n",
       "      <td>16500.0</td>\n",
       "      <td>9550.0</td>\n",
       "      <td>0.110733</td>\n",
       "    </tr>\n",
       "    <tr>\n",
       "      <th>158</th>\n",
       "      <td>137723355</td>\n",
       "      <td>C</td>\n",
       "      <td>C1</td>\n",
       "      <td>17.15</td>\n",
       "      <td>55000.0</td>\n",
       "      <td>36.0</td>\n",
       "      <td>TX</td>\n",
       "      <td>13.56</td>\n",
       "      <td>10000.0</td>\n",
       "      <td>4725.0</td>\n",
       "      <td>0.125261</td>\n",
       "    </tr>\n",
       "    <tr>\n",
       "      <th>140</th>\n",
       "      <td>137649345</td>\n",
       "      <td>C</td>\n",
       "      <td>C2</td>\n",
       "      <td>7.51</td>\n",
       "      <td>45888.0</td>\n",
       "      <td>120.0</td>\n",
       "      <td>CT</td>\n",
       "      <td>14.47</td>\n",
       "      <td>10000.0</td>\n",
       "      <td>3150.0</td>\n",
       "      <td>0.126692</td>\n",
       "    </tr>\n",
       "    <tr>\n",
       "      <th>2</th>\n",
       "      <td>137348940</td>\n",
       "      <td>C</td>\n",
       "      <td>C2</td>\n",
       "      <td>13.90</td>\n",
       "      <td>60000.0</td>\n",
       "      <td>84.0</td>\n",
       "      <td>AZ</td>\n",
       "      <td>14.47</td>\n",
       "      <td>4000.0</td>\n",
       "      <td>200.0</td>\n",
       "      <td>0.127061</td>\n",
       "    </tr>\n",
       "    <tr>\n",
       "      <th>266</th>\n",
       "      <td>137326866</td>\n",
       "      <td>C</td>\n",
       "      <td>C4</td>\n",
       "      <td>25.23</td>\n",
       "      <td>130000.0</td>\n",
       "      <td>120.0</td>\n",
       "      <td>NY</td>\n",
       "      <td>16.14</td>\n",
       "      <td>25000.0</td>\n",
       "      <td>15600.0</td>\n",
       "      <td>0.128588</td>\n",
       "    </tr>\n",
       "    <tr>\n",
       "      <th>260</th>\n",
       "      <td>137686995</td>\n",
       "      <td>C</td>\n",
       "      <td>C2</td>\n",
       "      <td>22.87</td>\n",
       "      <td>90000.0</td>\n",
       "      <td>60.0</td>\n",
       "      <td>AL</td>\n",
       "      <td>14.47</td>\n",
       "      <td>27000.0</td>\n",
       "      <td>14550.0</td>\n",
       "      <td>0.130894</td>\n",
       "    </tr>\n",
       "    <tr>\n",
       "      <th>252</th>\n",
       "      <td>137630408</td>\n",
       "      <td>C</td>\n",
       "      <td>C2</td>\n",
       "      <td>17.27</td>\n",
       "      <td>95000.0</td>\n",
       "      <td>120.0</td>\n",
       "      <td>MO</td>\n",
       "      <td>14.47</td>\n",
       "      <td>16000.0</td>\n",
       "      <td>13550.0</td>\n",
       "      <td>0.131547</td>\n",
       "    </tr>\n",
       "    <tr>\n",
       "      <th>122</th>\n",
       "      <td>137227213</td>\n",
       "      <td>C</td>\n",
       "      <td>C2</td>\n",
       "      <td>21.14</td>\n",
       "      <td>102000.0</td>\n",
       "      <td>60.0</td>\n",
       "      <td>OH</td>\n",
       "      <td>14.47</td>\n",
       "      <td>10000.0</td>\n",
       "      <td>1950.0</td>\n",
       "      <td>0.134427</td>\n",
       "    </tr>\n",
       "  </tbody>\n",
       "</table>\n",
       "</div>"
      ],
      "text/plain": [
       "            id grade subgrade    dti  annual_income  employment_length state  \\\n",
       "90   137460419     C       C1  13.00        48000.0               12.0    OR   \n",
       "127  137661847     C       C2  17.18       140000.0               36.0    SC   \n",
       "219  137629305     C       C2   8.10       160000.0               36.0    IL   \n",
       "158  137723355     C       C1  17.15        55000.0               36.0    TX   \n",
       "140  137649345     C       C2   7.51        45888.0              120.0    CT   \n",
       "2    137348940     C       C2  13.90        60000.0               84.0    AZ   \n",
       "266  137326866     C       C4  25.23       130000.0              120.0    NY   \n",
       "260  137686995     C       C2  22.87        90000.0               60.0    AL   \n",
       "252  137630408     C       C2  17.27        95000.0              120.0    MO   \n",
       "122  137227213     C       C2  21.14       102000.0               60.0    OH   \n",
       "\n",
       "     interest_rate  loan_amount  amount_to_fund  default_risk  \n",
       "90           13.56      10000.0          5225.0      0.096534  \n",
       "127          14.47      12275.0          2450.0      0.097036  \n",
       "219          14.47      16500.0          9550.0      0.110733  \n",
       "158          13.56      10000.0          4725.0      0.125261  \n",
       "140          14.47      10000.0          3150.0      0.126692  \n",
       "2            14.47       4000.0           200.0      0.127061  \n",
       "266          16.14      25000.0         15600.0      0.128588  \n",
       "260          14.47      27000.0         14550.0      0.130894  \n",
       "252          14.47      16000.0         13550.0      0.131547  \n",
       "122          14.47      10000.0          1950.0      0.134427  "
      ]
     },
     "execution_count": 404,
     "metadata": {},
     "output_type": "execute_result"
    }
   ],
   "source": [
    "df_curr_pred[(df_curr_pred.grade=='C') & (~df_curr_pred.state.isin(['CA', 'FL']))].sort_values(by='default_risk').head(10)"
   ]
  },
  {
   "cell_type": "code",
   "execution_count": null,
   "metadata": {},
   "outputs": [],
   "source": []
  }
 ],
 "metadata": {
  "kernelspec": {
   "display_name": "Python 3",
   "language": "python",
   "name": "python3"
  },
  "language_info": {
   "codemirror_mode": {
    "name": "ipython",
    "version": 3
   },
   "file_extension": ".py",
   "mimetype": "text/x-python",
   "name": "python",
   "nbconvert_exporter": "python",
   "pygments_lexer": "ipython3",
   "version": "3.6.4"
  }
 },
 "nbformat": 4,
 "nbformat_minor": 2
}
